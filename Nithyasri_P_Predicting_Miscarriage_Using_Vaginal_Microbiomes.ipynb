{
  "nbformat": 4,
  "nbformat_minor": 0,
  "metadata": {
    "colab": {
      "provenance": [],
      "include_colab_link": true
    },
    "kernelspec": {
      "name": "python3",
      "display_name": "Python 3"
    },
    "language_info": {
      "name": "python"
    }
  },
  "cells": [
    {
      "cell_type": "markdown",
      "metadata": {
        "id": "view-in-github",
        "colab_type": "text"
      },
      "source": [
        "<a href=\"https://colab.research.google.com/github/nithyasrip06/UCSF-AI4ALL/blob/main/Nithyasri_P_Predicting_Miscarriage_Using_Vaginal_Microbiomes.ipynb\" target=\"_parent\"><img src=\"https://colab.research.google.com/assets/colab-badge.svg\" alt=\"Open In Colab\"/></a>"
      ]
    },
    {
      "cell_type": "markdown",
      "source": [
        "\n",
        "\n",
        "**About our dataset:**\n",
        "  \n",
        "  161 pregnancies were followed from a 2019 study (by Imperial College London Hospitals) of which 64 pregnanies resulted in1st trimester miscarriage, 14 pregnancies in 2nd trimester miscarriage, and 83 pregnancies in full term pregnancies. From these women, a vaginal swab was collected during the first trimester, which was processed to extract all bacterial DNA, which was then sequenced and analyzed using BLAST to gauge the relative abundances of different bacteria.\n",
        "If you're interested, you can read more here: https://obgyn.onlinelibrary.wiley.com/doi/pdf/10.1111/1471-0528.15972\n",
        "\n",
        "Your data is all cleaned up and ready for you [here](https://drive.google.com/drive/folders/1BRSEBaqQ42DVHLMkZfP1ANg7AceutWP3?usp=sharing). However, our data will not always be clean and ready, so we are going to teach you about the importance of having high-quality data using another toy dataset."
      ],
      "metadata": {
        "id": "hob4Yj44ZIYJ"
      }
    },
    {
      "cell_type": "code",
      "source": [
        "# package import block:\n",
        "import sklearn\n",
        "import pandas as pd\n",
        "import numpy as np\n",
        "import matplotlib.pyplot as plt\n",
        "import seaborn as sns\n",
        "from sklearn.decomposition import PCA\n",
        "# ignore warnings\n",
        "import warnings\n",
        "from sklearn.exceptions import DataConversionWarning\n",
        "warnings.filterwarnings(action='ignore', category=DataConversionWarning)"
      ],
      "metadata": {
        "id": "CxHRqIcCTRWl"
      },
      "execution_count": null,
      "outputs": []
    },
    {
      "cell_type": "markdown",
      "source": [
        "# **Data Cleaning**"
      ],
      "metadata": {
        "id": "T6BRqzdpQbjI"
      }
    },
    {
      "cell_type": "code",
      "source": [],
      "metadata": {
        "id": "mTWEORBveFrg"
      },
      "execution_count": null,
      "outputs": []
    },
    {
      "cell_type": "markdown",
      "source": [
        "Most data you recieve will not be always be consistently formatted and complete. It is important to ensure that the data used in your models is accurate, properly formatted and complete.\n",
        "\n",
        "\n",
        "\n",
        "**Task**:\n",
        "\n",
        "  You have two files in the \"Data Cleaning\" folder ([link](https://drive.google.com/drive/folders/1BRSEBaqQ42DVHLMkZfP1ANg7AceutWP3?usp=sharing)), and we want you to check whether they're \"clean\" (good quality) or not.\n",
        "\n",
        "  These two files contain sequences of bacterial DNA from sewage in St. Louis: one has good-quality sequences, the other bad-quality sequences. Before trying to run them through BLASTn (online tool that can take DNA sequences and find which bacteria it came from), we have to check the quality of the files.\n",
        "\n",
        "  \n",
        "  The software we use to run the quality check is called \"[FastQC](https://www.hadriengourle.com/tutorials/qc/)\". After running FastQC on each fastq file (that contains your sequences), you can read a report about each of your files, that tells you about your data quality.\n",
        "\n",
        "  Here is a sample report from a [good](https://www.hadriengourle.com/tutorials/data/fastqc/SRR957824_500K_R1_fastqc.html) quality sample, and a [bad](https://www.hadriengourle.com/tutorials/data/fastqc/SRR957824_500K_R2_fastqc.html) quality sample.\n",
        "\n",
        "  Look at both of them, then answer these questions:\n"
      ],
      "metadata": {
        "id": "jzf3RN_8R8_n"
      }
    },
    {
      "cell_type": "markdown",
      "source": [
        "**Questions:**\n",
        "\n",
        "    1. Did all files run smoothly?\n",
        "    2. Which file is higher quality? Why?\n",
        "    3. Why do you think the quality of the reads depends on the position in the DNA sequence? Why does the quality drop near the end of the sequences?"
      ],
      "metadata": {
        "id": "F65o8ipueDJJ"
      }
    },
    {
      "cell_type": "markdown",
      "source": [
        "Now, you're ready to do part 2 of data cleanup: alignment!\n",
        "\n",
        "You have all of your DNA sequence files, now you want to know which bacteria your sequences came from. For that, you use BLASTn (Basic Local Sequence Alignment Tool) that takes your DNA sequences, compares them with sequences from the genomes of thousands of organisms, and tells you which one your sequence most likely came from! Neat, huh?\n",
        "\n",
        "Now, you have 4 fasta (sequence) files in your \"Data Cleaning\" folder. Run [BLASTn](https://blast.ncbi.nlm.nih.gov/Blast.cgi?PROGRAM=blastn&BLAST_SPEC=GeoBlast&PAGE_TYPE=BlastSearch) on all of them, then answer the questions below.\n",
        "\n",
        "To run BLAST, simply upload your fasta files and click \"BLAST!\""
      ],
      "metadata": {
        "id": "cSDznEtUebdB"
      }
    },
    {
      "cell_type": "markdown",
      "source": [
        "**Questions:**\n",
        "\n",
        "    1. Did all files run smoothly?\n",
        "    2. What issues have you encountered?\n",
        "    3. What should be done to with the files/patients whose files did not converge?"
      ],
      "metadata": {
        "id": "w_bABnw4M7rv"
      }
    },
    {
      "cell_type": "markdown",
      "source": [
        "# **Understanding Your Dataset**"
      ],
      "metadata": {
        "id": "rpELXqGIR7dE"
      }
    },
    {
      "cell_type": "markdown",
      "source": [
        "[Here](https://drive.google.com/drive/folders/1BRSEBaqQ42DVHLMkZfP1ANg7AceutWP3?usp=sharing) we've provided you with the dataset you'll be using for your project:\n",
        "\n",
        "*   a set of all bacterial abundances from all 161 patients in csv format (each file's name is the patient's codename)\n",
        "*   1 metadata csv file containing the codename for each patient and whether they had a successful pregnancy or a miscarriage in 1st / 2nd trimester.\n",
        "\n",
        "You will find the corresponding files in the \"Alignments\" and \"Metadata\" folder both within the \"Model Building\" folder.\n",
        "\n",
        "We suggest opening up some of the bacterial abundances csv's, and understanding what the data looks like, so that you can do your machine learning well!\n",
        "\n",
        "Now, let's do some data visualization exercises to help you understand the data!\n",
        "\n",
        "\n",
        "**Task:**\n",
        "\n",
        "Let's start building our models!\n",
        "\n",
        "We'll be building models to predict whether or not a pregnancy goes to term based on an individual's vaginal microbiome.\n",
        "\n",
        "*To Do:*\n",
        "\n",
        "1. Format your output\n",
        "2. Choose your ML algorithms\n",
        "  - Supervised:\n",
        "    - Logistic Regression\n",
        "    - Random Forest\n",
        "    - Perceptron\n",
        "    - K-Nearest Neighbors\n",
        "  - Unsupervised:\n",
        "    - K-Means Clustering\n",
        "3. Train your models and experiment with different data splitting techniques\n",
        "  - Traditional test-train split\n",
        "  - K-fold cross validations\n",
        "  - Stratified train-test split\n",
        "4. Evaluate your models\n",
        "\n",
        "\n",
        "\n",
        "\n"
      ],
      "metadata": {
        "id": "XhEAUMW0d6_0"
      }
    },
    {
      "cell_type": "markdown",
      "source": [
        "EXERCISE: make a bar chart of the types of pregnancy (successful, 1st trimester miscarriage, 2nd trimester miscarriage) and how many patients had each. (hint: use the metadata .csv)"
      ],
      "metadata": {
        "id": "t5n9NxjjPem4"
      }
    },
    {
      "cell_type": "markdown",
      "source": [
        "EXERCISE: make a chart of the relative abundance of the bacteria in 3 patient samples of your choice. You can have three separate bar charts (one for each patient). Or, you can make a pie chart for each patient."
      ],
      "metadata": {
        "id": "Vx3TepYqPsyZ"
      }
    },
    {
      "cell_type": "code",
      "source": [],
      "metadata": {
        "id": "HnpitTLa_7Pa"
      },
      "execution_count": null,
      "outputs": []
    },
    {
      "cell_type": "code",
      "source": [
        "# bar chart of metadata\n",
        "# First we can plot cases by country\n",
        "# pandas has a convenient function for this\n",
        "metadata_file = data = pd.read_csv(\"/content/samples_and_status.csv\")\n",
        "metadata_file.columns=[\"Sample ID\",\"status\"]\n",
        "count_by_cancer = metadata_file.groupby(['status']).size()\n",
        "count_by_cancer.plot.bar(y=\"Sample ID\",figsize=(5,5),legend=False)\n",
        "# setting labels make plots more informative\n",
        "plt.xlabel(\"pregnancy status\")\n",
        "plt.ylabel(\"Total # of Samples\")\n",
        "# titles are important for plot interpretation!\n",
        "plt.title(\"Breakdown of pregnancy cases by subtpye\")\n",
        "plt.show()\n",
        "\n",
        "# 1: 1st sem miscarriage, 2: 2nd sem miscarriage, 3: successful pregnancy"
      ],
      "metadata": {
        "id": "eekm_zLYUgP5"
      },
      "execution_count": null,
      "outputs": []
    },
    {
      "cell_type": "code",
      "source": [
        "# bar chart of patient info\n",
        "patient_17 = pd.read_csv(\"/content/17.csv\",index_col=0)\n",
        "patient_17\n",
        "bacterium = patient_17[\"bacterium\"]\n",
        "abundance = patient_17[\"abundance\"]\n",
        "plt.bar(bacterium, abundance, color ='pink',\n",
        "        width = 1)\n",
        "plt.xticks(rotation=90)\n",
        "\n",
        "plt.xlabel(\"bacterium\")\n",
        "plt.ylabel(\"abundance\")\n",
        "plt.title(\"bacteria and abundances for patient 17 (miscarriage trimester 1)\")\n",
        "plt.show()"
      ],
      "metadata": {
        "id": "qOPOnbxJB1uu",
        "colab": {
          "base_uri": "https://localhost:8080/",
          "height": 210
        },
        "outputId": "90e1e457-4411-45bf-85b5-89ea68e7b95a"
      },
      "execution_count": null,
      "outputs": [
        {
          "output_type": "error",
          "ename": "NameError",
          "evalue": "name 'pd' is not defined",
          "traceback": [
            "\u001b[0;31m---------------------------------------------------------------------------\u001b[0m",
            "\u001b[0;31mNameError\u001b[0m                                 Traceback (most recent call last)",
            "\u001b[0;32m<ipython-input-2-9287bb48dafd>\u001b[0m in \u001b[0;36m<cell line: 2>\u001b[0;34m()\u001b[0m\n\u001b[1;32m      1\u001b[0m \u001b[0;31m# bar chart of patient info\u001b[0m\u001b[0;34m\u001b[0m\u001b[0;34m\u001b[0m\u001b[0m\n\u001b[0;32m----> 2\u001b[0;31m \u001b[0mpatient_17\u001b[0m \u001b[0;34m=\u001b[0m \u001b[0mpd\u001b[0m\u001b[0;34m.\u001b[0m\u001b[0mread_csv\u001b[0m\u001b[0;34m(\u001b[0m\u001b[0;34m\"/content/17.csv\"\u001b[0m\u001b[0;34m,\u001b[0m\u001b[0mindex_col\u001b[0m\u001b[0;34m=\u001b[0m\u001b[0;36m0\u001b[0m\u001b[0;34m)\u001b[0m\u001b[0;34m\u001b[0m\u001b[0;34m\u001b[0m\u001b[0m\n\u001b[0m\u001b[1;32m      3\u001b[0m \u001b[0mpatient_17\u001b[0m\u001b[0;34m\u001b[0m\u001b[0;34m\u001b[0m\u001b[0m\n\u001b[1;32m      4\u001b[0m \u001b[0mbacterium\u001b[0m \u001b[0;34m=\u001b[0m \u001b[0mpatient_17\u001b[0m\u001b[0;34m[\u001b[0m\u001b[0;34m\"bacterium\"\u001b[0m\u001b[0;34m]\u001b[0m\u001b[0;34m\u001b[0m\u001b[0;34m\u001b[0m\u001b[0m\n\u001b[1;32m      5\u001b[0m \u001b[0mabundance\u001b[0m \u001b[0;34m=\u001b[0m \u001b[0mpatient_17\u001b[0m\u001b[0;34m[\u001b[0m\u001b[0;34m\"abundance\"\u001b[0m\u001b[0;34m]\u001b[0m\u001b[0;34m\u001b[0m\u001b[0;34m\u001b[0m\u001b[0m\n",
            "\u001b[0;31mNameError\u001b[0m: name 'pd' is not defined"
          ]
        }
      ]
    },
    {
      "cell_type": "code",
      "source": [
        "patient_67 = pd.read_csv(\"/content/67.csv\",index_col=0)\n",
        "patient_67\n",
        "bacterium = patient_67[\"bacterium\"]\n",
        "abundance = patient_67[\"abundance\"]\n",
        "plt.bar(bacterium, abundance, color ='green',\n",
        "        width = 1)\n",
        "plt.xticks(rotation=90)\n",
        "\n",
        "plt.xlabel(\"bacterium\")\n",
        "plt.ylabel(\"abundance\")\n",
        "plt.title(\"bacteria and abundances for patient 67 (miscarriage trimester 2)\")\n",
        "plt.show()"
      ],
      "metadata": {
        "id": "FN1E6bqU-DNh"
      },
      "execution_count": null,
      "outputs": []
    },
    {
      "cell_type": "code",
      "source": [
        "patient_78 = pd.read_csv(\"/content/78.csv\",index_col=0)\n",
        "patient_78\n",
        "bacterium = patient_78[\"bacterium\"]\n",
        "abundance = patient_78[\"abundance\"]\n",
        "plt.bar(bacterium, abundance, color ='grey',\n",
        "        width = 1)\n",
        "plt.xticks(rotation=90)\n",
        "\n",
        "plt.xlabel(\"bacterium\")\n",
        "plt.ylabel(\"abundance\")\n",
        "plt.title(\"bacteria and abundances for patient 78 (successful)\")\n",
        "plt.show()"
      ],
      "metadata": {
        "id": "XRvRkMDz-ELq"
      },
      "execution_count": null,
      "outputs": []
    },
    {
      "cell_type": "code",
      "source": [
        "# pie chart of patient info\n",
        "# it's correct that almost all the bacteria is actually lactobacillus\n",
        "patient_52 = pd.read_csv(\"/content/52.csv\",index_col=0)\n",
        "patient_52\n",
        "bacterium = patient_52[\"bacterium\"]\n",
        "abundance = patient_52[\"abundance\"]\n",
        "plt.bar(bacterium, abundance, color ='grey', width = 0.4)\n",
        "\n",
        "plt.pie(abundance)\n",
        "plt.show()"
      ],
      "metadata": {
        "id": "fMQsdjUjCv8j"
      },
      "execution_count": null,
      "outputs": []
    },
    {
      "cell_type": "markdown",
      "source": [
        "# Model Building"
      ],
      "metadata": {
        "id": "LhqBiNuuUgig"
      }
    },
    {
      "cell_type": "markdown",
      "source": [
        "\n",
        "Now that you understand your data better, let's build our models!\n",
        "\n",
        "We'll be building models to predict whether or not a pregnancy goes to term based on an individual's vaginal microbiome.\n",
        "\n",
        "\n",
        "## *To Do:*\n",
        "\n",
        "1. Format your output\n",
        "  - you're doing binary classification (**successful pregnancy**, vs **miscarriage**)\n",
        "2. Choose your ML algorithms\n",
        "  - Supervised: (choose two of these)\n",
        "    - [Logistic Regression](https://scikit-learn.org/stable/modules/generated/sklearn.linear_model.LogisticRegression.html?highlight=logistic%20regression#sklearn.linear_model.LogisticRegression)\n",
        "    - [Random Forest](https://scikit-learn.org/stable/modules/generated/sklearn.ensemble.RandomForestClassifier.html?highlight=random%20forest#sklearn.ensemble.RandomForestClassifier) / [Decision Tree](https://scikit-learn.org/stable/modules/generated/sklearn.tree.DecisionTreeClassifier.html?highlight=decision%20tree#sklearn.tree.DecisionTreeClassifier)\n",
        "    - [Perceptron](https://scikit-learn.org/stable/modules/generated/sklearn.linear_model.Perceptron.html)\n",
        "    - [K-Nearest Neighbors](https://scikit-learn.org/stable/modules/generated/sklearn.neighbors.KNeighborsClassifier.html)\n",
        "  - Unsupervised:\n",
        "    - [K-Means Clustering](https://scikit-learn.org/stable/modules/generated/sklearn.cluster.KMeans.html)\n",
        "3. Experiment with different data splitting techniques\n",
        "  - Traditional [test-train split](https://scikit-learn.org/stable/modules/generated/sklearn.model_selection.train_test_split.html)\n",
        "  - [K-fold cross validation](https://scikit-learn.org/stable/modules/cross_validation.html)\n",
        "  - Stratified train-test split (we learned this on Thursday)\n",
        "3. Train your model\n",
        "4. Evaluate your models\n",
        "  - we want to see the \"accuracy\" value for all of your combinations, and if you want to show us a confusion matrix too, that would be cool with us!\n",
        "\n"
      ],
      "metadata": {
        "id": "4tmKCdGxN5km"
      }
    },
    {
      "cell_type": "markdown",
      "source": [
        "To help you, here we copied a block of code that we have done together on Thursday that explains the steps of how we implement a machine learning algorithm:\n",
        "\n"
      ],
      "metadata": {
        "id": "uCyYBoBGSK9a"
      }
    },
    {
      "cell_type": "markdown",
      "source": [
        "Again, remember: if you're ever confused, refer to the DOCUMENTATION! In the list above, click on each concept to go to its documentation page in Scikit Learn :)"
      ],
      "metadata": {
        "id": "tSK3pX4_Vqje"
      }
    },
    {
      "cell_type": "markdown",
      "source": [
        "# Do your Machine Learning here!\n"
      ],
      "metadata": {
        "id": "8hF3kYNBUKI-"
      }
    },
    {
      "cell_type": "markdown",
      "source": [
        "Here is an import block, run this before you start doing your machine learning:"
      ],
      "metadata": {
        "id": "2VkKYJpmUF2K"
      }
    },
    {
      "cell_type": "code",
      "source": [
        "# code import block\n",
        "%matplotlib inline\n",
        "import sklearn\n",
        "import pandas as pd\n",
        "import numpy as np\n",
        "import matplotlib.pyplot as plt\n",
        "import seaborn as sns\n",
        "from sklearn.model_selection import train_test_split\n",
        "\n",
        "# We're going to import the decision tree classifier\n",
        "from sklearn.tree import DecisionTreeClassifier\n",
        "from sklearn import tree\n",
        "import graphviz\n",
        "\n",
        "# we're going to import Random Forest classifier:\n",
        "from sklearn.ensemble import RandomForestClassifier\n",
        "\n",
        "# we're going to import logistic regression:\n",
        "from sklearn.linear_model import LogisticRegression\n",
        "from sklearn import metrics\n",
        "\n",
        "# we're going to import perceptron:\n",
        "from sklearn.linear_model import Perceptron\n",
        "\n",
        "# we're going to import k-nearest neighbors classifier:\n",
        "from sklearn.neighbors import KNeighborsClassifier\n",
        "\n",
        "# we're going to import k-means clustering:\n",
        "from sklearn.cluster import KMeans\n",
        "\n",
        "from sklearn.metrics import confusion_matrix\n",
        "\n",
        "# ignore warnings\n",
        "import warnings\n",
        "from sklearn.exceptions import DataConversionWarning\n",
        "warnings.filterwarnings(action='ignore', category=DataConversionWarning)"
      ],
      "metadata": {
        "id": "cmm832DKSOUi"
      },
      "execution_count": null,
      "outputs": []
    },
    {
      "cell_type": "markdown",
      "source": [
        "# **Decision Tree**"
      ],
      "metadata": {
        "id": "4i_l6KB-JF2u"
      }
    },
    {
      "cell_type": "markdown",
      "source": [
        "Now, start working! and don't forget to write comments to tell us what you're trying to do with the code."
      ],
      "metadata": {
        "id": "-BJYJKqmUWLp"
      }
    },
    {
      "cell_type": "code",
      "source": [
        "# your code here!\n",
        "\n",
        "info = pd.read_csv(\"/content/binaryclass.csv\",index_col=0)\n",
        "bact = pd.read_csv(\"/content/fixed_data.csv\",index_col=0)\n",
        "info = info.dropna(axis=1) # we got rid of the NA columns\n",
        "\n",
        "bact.index.names = ['Sample ID'] # renamed the sample ID column to be consistant in both datasets\n",
        "\n",
        "ID = info.index.astype(str) # converted all the sample ids into strings so that they are useable\n",
        "ID_2 = bact.index.astype(str)\n"
      ],
      "metadata": {
        "id": "cRrtmhEQUQcR",
        "colab": {
          "base_uri": "https://localhost:8080/",
          "height": 356
        },
        "outputId": "ba3abad7-bb0f-4218-f69b-a7a63552c92c"
      },
      "execution_count": null,
      "outputs": [
        {
          "output_type": "error",
          "ename": "FileNotFoundError",
          "evalue": "[Errno 2] No such file or directory: '/content/binaryclass.csv'",
          "traceback": [
            "\u001b[0;31m---------------------------------------------------------------------------\u001b[0m",
            "\u001b[0;31mFileNotFoundError\u001b[0m                         Traceback (most recent call last)",
            "\u001b[0;32m<ipython-input-6-488f39f4d042>\u001b[0m in \u001b[0;36m<cell line: 3>\u001b[0;34m()\u001b[0m\n\u001b[1;32m      1\u001b[0m \u001b[0;31m# your code here!\u001b[0m\u001b[0;34m\u001b[0m\u001b[0;34m\u001b[0m\u001b[0m\n\u001b[1;32m      2\u001b[0m \u001b[0;34m\u001b[0m\u001b[0m\n\u001b[0;32m----> 3\u001b[0;31m \u001b[0minfo\u001b[0m \u001b[0;34m=\u001b[0m \u001b[0mpd\u001b[0m\u001b[0;34m.\u001b[0m\u001b[0mread_csv\u001b[0m\u001b[0;34m(\u001b[0m\u001b[0;34m\"/content/binaryclass.csv\"\u001b[0m\u001b[0;34m,\u001b[0m\u001b[0mindex_col\u001b[0m\u001b[0;34m=\u001b[0m\u001b[0;36m0\u001b[0m\u001b[0;34m)\u001b[0m\u001b[0;34m\u001b[0m\u001b[0;34m\u001b[0m\u001b[0m\n\u001b[0m\u001b[1;32m      4\u001b[0m \u001b[0mbact\u001b[0m \u001b[0;34m=\u001b[0m \u001b[0mpd\u001b[0m\u001b[0;34m.\u001b[0m\u001b[0mread_csv\u001b[0m\u001b[0;34m(\u001b[0m\u001b[0;34m\"/content/fixed_data.csv\"\u001b[0m\u001b[0;34m,\u001b[0m\u001b[0mindex_col\u001b[0m\u001b[0;34m=\u001b[0m\u001b[0;36m0\u001b[0m\u001b[0;34m)\u001b[0m\u001b[0;34m\u001b[0m\u001b[0;34m\u001b[0m\u001b[0m\n\u001b[1;32m      5\u001b[0m \u001b[0minfo\u001b[0m \u001b[0;34m=\u001b[0m \u001b[0minfo\u001b[0m\u001b[0;34m.\u001b[0m\u001b[0mdropna\u001b[0m\u001b[0;34m(\u001b[0m\u001b[0maxis\u001b[0m\u001b[0;34m=\u001b[0m\u001b[0;36m1\u001b[0m\u001b[0;34m)\u001b[0m \u001b[0;31m# we got rid of the NA columns\u001b[0m\u001b[0;34m\u001b[0m\u001b[0;34m\u001b[0m\u001b[0m\n",
            "\u001b[0;32m/usr/local/lib/python3.10/dist-packages/pandas/io/parsers/readers.py\u001b[0m in \u001b[0;36mread_csv\u001b[0;34m(filepath_or_buffer, sep, delimiter, header, names, index_col, usecols, dtype, engine, converters, true_values, false_values, skipinitialspace, skiprows, skipfooter, nrows, na_values, keep_default_na, na_filter, verbose, skip_blank_lines, parse_dates, infer_datetime_format, keep_date_col, date_parser, date_format, dayfirst, cache_dates, iterator, chunksize, compression, thousands, decimal, lineterminator, quotechar, quoting, doublequote, escapechar, comment, encoding, encoding_errors, dialect, on_bad_lines, delim_whitespace, low_memory, memory_map, float_precision, storage_options, dtype_backend)\u001b[0m\n\u001b[1;32m   1024\u001b[0m     \u001b[0mkwds\u001b[0m\u001b[0;34m.\u001b[0m\u001b[0mupdate\u001b[0m\u001b[0;34m(\u001b[0m\u001b[0mkwds_defaults\u001b[0m\u001b[0;34m)\u001b[0m\u001b[0;34m\u001b[0m\u001b[0;34m\u001b[0m\u001b[0m\n\u001b[1;32m   1025\u001b[0m \u001b[0;34m\u001b[0m\u001b[0m\n\u001b[0;32m-> 1026\u001b[0;31m     \u001b[0;32mreturn\u001b[0m \u001b[0m_read\u001b[0m\u001b[0;34m(\u001b[0m\u001b[0mfilepath_or_buffer\u001b[0m\u001b[0;34m,\u001b[0m \u001b[0mkwds\u001b[0m\u001b[0;34m)\u001b[0m\u001b[0;34m\u001b[0m\u001b[0;34m\u001b[0m\u001b[0m\n\u001b[0m\u001b[1;32m   1027\u001b[0m \u001b[0;34m\u001b[0m\u001b[0m\n\u001b[1;32m   1028\u001b[0m \u001b[0;34m\u001b[0m\u001b[0m\n",
            "\u001b[0;32m/usr/local/lib/python3.10/dist-packages/pandas/io/parsers/readers.py\u001b[0m in \u001b[0;36m_read\u001b[0;34m(filepath_or_buffer, kwds)\u001b[0m\n\u001b[1;32m    618\u001b[0m \u001b[0;34m\u001b[0m\u001b[0m\n\u001b[1;32m    619\u001b[0m     \u001b[0;31m# Create the parser.\u001b[0m\u001b[0;34m\u001b[0m\u001b[0;34m\u001b[0m\u001b[0m\n\u001b[0;32m--> 620\u001b[0;31m     \u001b[0mparser\u001b[0m \u001b[0;34m=\u001b[0m \u001b[0mTextFileReader\u001b[0m\u001b[0;34m(\u001b[0m\u001b[0mfilepath_or_buffer\u001b[0m\u001b[0;34m,\u001b[0m \u001b[0;34m**\u001b[0m\u001b[0mkwds\u001b[0m\u001b[0;34m)\u001b[0m\u001b[0;34m\u001b[0m\u001b[0;34m\u001b[0m\u001b[0m\n\u001b[0m\u001b[1;32m    621\u001b[0m \u001b[0;34m\u001b[0m\u001b[0m\n\u001b[1;32m    622\u001b[0m     \u001b[0;32mif\u001b[0m \u001b[0mchunksize\u001b[0m \u001b[0;32mor\u001b[0m \u001b[0miterator\u001b[0m\u001b[0;34m:\u001b[0m\u001b[0;34m\u001b[0m\u001b[0;34m\u001b[0m\u001b[0m\n",
            "\u001b[0;32m/usr/local/lib/python3.10/dist-packages/pandas/io/parsers/readers.py\u001b[0m in \u001b[0;36m__init__\u001b[0;34m(self, f, engine, **kwds)\u001b[0m\n\u001b[1;32m   1618\u001b[0m \u001b[0;34m\u001b[0m\u001b[0m\n\u001b[1;32m   1619\u001b[0m         \u001b[0mself\u001b[0m\u001b[0;34m.\u001b[0m\u001b[0mhandles\u001b[0m\u001b[0;34m:\u001b[0m \u001b[0mIOHandles\u001b[0m \u001b[0;34m|\u001b[0m \u001b[0;32mNone\u001b[0m \u001b[0;34m=\u001b[0m \u001b[0;32mNone\u001b[0m\u001b[0;34m\u001b[0m\u001b[0;34m\u001b[0m\u001b[0m\n\u001b[0;32m-> 1620\u001b[0;31m         \u001b[0mself\u001b[0m\u001b[0;34m.\u001b[0m\u001b[0m_engine\u001b[0m \u001b[0;34m=\u001b[0m \u001b[0mself\u001b[0m\u001b[0;34m.\u001b[0m\u001b[0m_make_engine\u001b[0m\u001b[0;34m(\u001b[0m\u001b[0mf\u001b[0m\u001b[0;34m,\u001b[0m \u001b[0mself\u001b[0m\u001b[0;34m.\u001b[0m\u001b[0mengine\u001b[0m\u001b[0;34m)\u001b[0m\u001b[0;34m\u001b[0m\u001b[0;34m\u001b[0m\u001b[0m\n\u001b[0m\u001b[1;32m   1621\u001b[0m \u001b[0;34m\u001b[0m\u001b[0m\n\u001b[1;32m   1622\u001b[0m     \u001b[0;32mdef\u001b[0m \u001b[0mclose\u001b[0m\u001b[0;34m(\u001b[0m\u001b[0mself\u001b[0m\u001b[0;34m)\u001b[0m \u001b[0;34m->\u001b[0m \u001b[0;32mNone\u001b[0m\u001b[0;34m:\u001b[0m\u001b[0;34m\u001b[0m\u001b[0;34m\u001b[0m\u001b[0m\n",
            "\u001b[0;32m/usr/local/lib/python3.10/dist-packages/pandas/io/parsers/readers.py\u001b[0m in \u001b[0;36m_make_engine\u001b[0;34m(self, f, engine)\u001b[0m\n\u001b[1;32m   1878\u001b[0m                 \u001b[0;32mif\u001b[0m \u001b[0;34m\"b\"\u001b[0m \u001b[0;32mnot\u001b[0m \u001b[0;32min\u001b[0m \u001b[0mmode\u001b[0m\u001b[0;34m:\u001b[0m\u001b[0;34m\u001b[0m\u001b[0;34m\u001b[0m\u001b[0m\n\u001b[1;32m   1879\u001b[0m                     \u001b[0mmode\u001b[0m \u001b[0;34m+=\u001b[0m \u001b[0;34m\"b\"\u001b[0m\u001b[0;34m\u001b[0m\u001b[0;34m\u001b[0m\u001b[0m\n\u001b[0;32m-> 1880\u001b[0;31m             self.handles = get_handle(\n\u001b[0m\u001b[1;32m   1881\u001b[0m                 \u001b[0mf\u001b[0m\u001b[0;34m,\u001b[0m\u001b[0;34m\u001b[0m\u001b[0;34m\u001b[0m\u001b[0m\n\u001b[1;32m   1882\u001b[0m                 \u001b[0mmode\u001b[0m\u001b[0;34m,\u001b[0m\u001b[0;34m\u001b[0m\u001b[0;34m\u001b[0m\u001b[0m\n",
            "\u001b[0;32m/usr/local/lib/python3.10/dist-packages/pandas/io/common.py\u001b[0m in \u001b[0;36mget_handle\u001b[0;34m(path_or_buf, mode, encoding, compression, memory_map, is_text, errors, storage_options)\u001b[0m\n\u001b[1;32m    871\u001b[0m         \u001b[0;32mif\u001b[0m \u001b[0mioargs\u001b[0m\u001b[0;34m.\u001b[0m\u001b[0mencoding\u001b[0m \u001b[0;32mand\u001b[0m \u001b[0;34m\"b\"\u001b[0m \u001b[0;32mnot\u001b[0m \u001b[0;32min\u001b[0m \u001b[0mioargs\u001b[0m\u001b[0;34m.\u001b[0m\u001b[0mmode\u001b[0m\u001b[0;34m:\u001b[0m\u001b[0;34m\u001b[0m\u001b[0;34m\u001b[0m\u001b[0m\n\u001b[1;32m    872\u001b[0m             \u001b[0;31m# Encoding\u001b[0m\u001b[0;34m\u001b[0m\u001b[0;34m\u001b[0m\u001b[0m\n\u001b[0;32m--> 873\u001b[0;31m             handle = open(\n\u001b[0m\u001b[1;32m    874\u001b[0m                 \u001b[0mhandle\u001b[0m\u001b[0;34m,\u001b[0m\u001b[0;34m\u001b[0m\u001b[0;34m\u001b[0m\u001b[0m\n\u001b[1;32m    875\u001b[0m                 \u001b[0mioargs\u001b[0m\u001b[0;34m.\u001b[0m\u001b[0mmode\u001b[0m\u001b[0;34m,\u001b[0m\u001b[0;34m\u001b[0m\u001b[0;34m\u001b[0m\u001b[0m\n",
            "\u001b[0;31mFileNotFoundError\u001b[0m: [Errno 2] No such file or directory: '/content/binaryclass.csv'"
          ]
        }
      ]
    },
    {
      "cell_type": "code",
      "source": [
        "# NON STRATIFIED VERSION !!!!!\n",
        "X_train, X_test, y_train, y_test = train_test_split(bact,info,test_size=0.3,random_state=35,)\n",
        "#here we split up the data into a training set and a test set (70-30)\n",
        "\n",
        "print(X_train.shape)\n",
        "print(X_test.shape)\n",
        "print(y_train.shape)\n",
        "print(y_test.shape)\n",
        "# printed the different sets just so we know what itll look like"
      ],
      "metadata": {
        "colab": {
          "base_uri": "https://localhost:8080/",
          "height": 210
        },
        "id": "pILjx-td9J1q",
        "outputId": "118f2100-1422-4bcb-ad56-dba3ded04304"
      },
      "execution_count": null,
      "outputs": [
        {
          "output_type": "error",
          "ename": "NameError",
          "evalue": "name 'bact' is not defined",
          "traceback": [
            "\u001b[0;31m---------------------------------------------------------------------------\u001b[0m",
            "\u001b[0;31mNameError\u001b[0m                                 Traceback (most recent call last)",
            "\u001b[0;32m<ipython-input-7-0faa89457bdd>\u001b[0m in \u001b[0;36m<cell line: 2>\u001b[0;34m()\u001b[0m\n\u001b[1;32m      1\u001b[0m \u001b[0;31m# NON STRATIFIED VERSION !!!!!\u001b[0m\u001b[0;34m\u001b[0m\u001b[0;34m\u001b[0m\u001b[0m\n\u001b[0;32m----> 2\u001b[0;31m \u001b[0mX_train\u001b[0m\u001b[0;34m,\u001b[0m \u001b[0mX_test\u001b[0m\u001b[0;34m,\u001b[0m \u001b[0my_train\u001b[0m\u001b[0;34m,\u001b[0m \u001b[0my_test\u001b[0m \u001b[0;34m=\u001b[0m \u001b[0mtrain_test_split\u001b[0m\u001b[0;34m(\u001b[0m\u001b[0mbact\u001b[0m\u001b[0;34m,\u001b[0m\u001b[0minfo\u001b[0m\u001b[0;34m,\u001b[0m\u001b[0mtest_size\u001b[0m\u001b[0;34m=\u001b[0m\u001b[0;36m0.3\u001b[0m\u001b[0;34m,\u001b[0m\u001b[0mrandom_state\u001b[0m\u001b[0;34m=\u001b[0m\u001b[0;36m35\u001b[0m\u001b[0;34m,\u001b[0m\u001b[0;34m)\u001b[0m\u001b[0;34m\u001b[0m\u001b[0;34m\u001b[0m\u001b[0m\n\u001b[0m\u001b[1;32m      3\u001b[0m \u001b[0;31m#here we split up the data into a training set and a test set (70-30)\u001b[0m\u001b[0;34m\u001b[0m\u001b[0;34m\u001b[0m\u001b[0m\n\u001b[1;32m      4\u001b[0m \u001b[0;34m\u001b[0m\u001b[0m\n\u001b[1;32m      5\u001b[0m \u001b[0mprint\u001b[0m\u001b[0;34m(\u001b[0m\u001b[0mX_train\u001b[0m\u001b[0;34m.\u001b[0m\u001b[0mshape\u001b[0m\u001b[0;34m)\u001b[0m\u001b[0;34m\u001b[0m\u001b[0;34m\u001b[0m\u001b[0m\n",
            "\u001b[0;31mNameError\u001b[0m: name 'bact' is not defined"
          ]
        }
      ]
    },
    {
      "cell_type": "code",
      "source": [
        "# Initialize the classifier with a max_depth of 5 -- defining our model (?)\n",
        "classifier = DecisionTreeClassifier(max_depth=5,random_state=0)  # max features is 8\n",
        "\n",
        "\n",
        "# Fit the classifier to the training set\n",
        "# This is the training process!! sklearn makes it super easy for us\n",
        "classifier = classifier.fit(X_train, y_train)"
      ],
      "metadata": {
        "id": "E0pezd-Q_ImE"
      },
      "execution_count": null,
      "outputs": []
    },
    {
      "cell_type": "code",
      "source": [
        "#actually running the model\n",
        "dot_data = tree.export_graphviz(classifier, out_file=None, impurity=False)\n",
        "graph = graphviz.Source(dot_data)\n",
        "graph # x[number] signals which column it is looking at and how much the value of the abundance of the baterium is\n",
        "# the first value shows that 56 samples and 54 samples are in the two seperate groups"
      ],
      "metadata": {
        "id": "zn2U-syu_ul6"
      },
      "execution_count": null,
      "outputs": []
    },
    {
      "cell_type": "code",
      "source": [
        "# Create a list of predicted classes for each of the examples in the test set\n",
        "y_predict = classifier.predict(X_test) # function used to make predictions from a model, give it our testing data\n",
        "\n",
        "print(y_predict)\n",
        "# outputs are labels for our testing data\n",
        "\n",
        "accuracy = classifier.score(X_test, y_test) # score runs predict as well\n",
        "print(accuracy)"
      ],
      "metadata": {
        "id": "6N-a9Pp6CJ14",
        "colab": {
          "base_uri": "https://localhost:8080/"
        },
        "outputId": "2516484f-0b4a-4dbf-de68-ab72f2b32f78"
      },
      "execution_count": null,
      "outputs": [
        {
          "output_type": "stream",
          "name": "stdout",
          "text": [
            "[0 0 0 0 1 1 0 1 0 1 0 0 0 0 0 1 0 0 0 1 0 0 1 0 0 0 1 1 1 0 0 0 1 0 1 1 0\n",
            " 0 1 1 1 0 0 0 0 0 1 0]\n",
            "0.4791666666666667\n"
          ]
        }
      ]
    },
    {
      "cell_type": "code",
      "source": [
        "X_train2, X_test2, y_train2, y_test2 = train_test_split(bact,info,stratify=info,test_size=0.3,random_state=35,)\n",
        "#here we split up the data into a training set and a test set (70-30)\n",
        "\n",
        "print(X_train2.shape)\n",
        "print(X_test2.shape)\n",
        "print(y_train2.shape)\n",
        "print(y_test2.shape)\n",
        "# printed the different sets just so we know what itll look like"
      ],
      "metadata": {
        "id": "NprZymodCiaq",
        "colab": {
          "base_uri": "https://localhost:8080/"
        },
        "outputId": "2865207b-0d3e-42c9-caf1-f7fe8356d333"
      },
      "execution_count": null,
      "outputs": [
        {
          "output_type": "stream",
          "name": "stdout",
          "text": [
            "(110, 228)\n",
            "(48, 228)\n",
            "(110, 1)\n",
            "(48, 1)\n"
          ]
        }
      ]
    },
    {
      "cell_type": "code",
      "source": [
        "# Initialize the classifier with a max_depth of 5 -- defining our model (?)\n",
        "classifier2 = DecisionTreeClassifier(max_depth=3,random_state=35)  # max features is 5\n",
        "\n",
        "\n",
        "# Fit the classifier to the training set\n",
        "# This is the training process!! sklearn makes it super easy for us\n",
        "classifier2 = classifier2.fit(X_train2, y_train2)"
      ],
      "metadata": {
        "id": "YgJa7eXJCiSZ"
      },
      "execution_count": null,
      "outputs": []
    },
    {
      "cell_type": "code",
      "source": [
        "#actually running the model\n",
        "dot_data2 = tree.export_graphviz(classifier2, out_file=None, impurity=False)\n",
        "graph2 = graphviz.Source(dot_data2)\n",
        "graph2 # x[number] signals which column it is looking at and how much the value of the abundance of the baterium is\n",
        "# the first value shows that 56 samples and 54 samples are in the two seperate groups"
      ],
      "metadata": {
        "id": "ZnmcXK3PCo6W"
      },
      "execution_count": null,
      "outputs": []
    },
    {
      "cell_type": "code",
      "source": [
        "# Create a list of predicted classes for each of the examples in the test set\n",
        "y_predict2 = classifier2.predict(X_test2) # function used to make predictions from a model, give it our testing data\n",
        "\n",
        "print(y_predict2)\n",
        "# outputs are labels for our testing data\n",
        "\n",
        "accuracy2 = classifier2.score(X_test2, y_test2) # score runs predict as well\n",
        "print(accuracy2)"
      ],
      "metadata": {
        "id": "30xGEcOhDGac"
      },
      "execution_count": null,
      "outputs": []
    },
    {
      "cell_type": "markdown",
      "source": [
        "# **Regression**"
      ],
      "metadata": {
        "id": "yLIVJyv3I_YW"
      }
    },
    {
      "cell_type": "code",
      "source": [
        "# NON STRATIFIED DATA\n",
        "# create the model\n",
        "\n",
        "\n",
        "lr = LogisticRegression(multi_class=\"auto\", solver=\"lbfgs\", max_iter=4000)\n",
        "# fit the model\n",
        "lr.fit(X_train,y_train)\n",
        "# make predictions\n",
        "y_predict_lr = lr.predict(X_test)\n",
        "# calculate accuracy\n",
        "accuracy = metrics.accuracy_score(np.array(y_test), y_predict_lr)\n",
        "print(accuracy)\n",
        "\n",
        "print(lr.score(X_test,y_test))"
      ],
      "metadata": {
        "id": "IE-jjnlEJCx2"
      },
      "execution_count": null,
      "outputs": []
    },
    {
      "cell_type": "code",
      "source": [
        "# STRATIFIED DATA\n",
        "# create the model\n",
        "lr = LogisticRegression()\n",
        "# fit the model\n",
        "lr.fit(X_train2,y_train2)\n",
        "# make predictions\n",
        "y_predict_lr = lr.predict(X_test2)\n",
        "# calculate accuracy\n",
        "accuracy = metrics.accuracy_score(np.array(y_test2), y_predict_lr)\n",
        "accuracy"
      ],
      "metadata": {
        "id": "3Xi1W1FTK1ni"
      },
      "execution_count": null,
      "outputs": []
    },
    {
      "cell_type": "markdown",
      "source": [
        "# **Perceptron**"
      ],
      "metadata": {
        "id": "I9kLercUq9N3"
      }
    },
    {
      "cell_type": "code",
      "source": [
        "# BEST SO FAR\n",
        "from sklearn.datasets import load_digits\n",
        "from sklearn.linear_model import Perceptron\n",
        "X_train, y_train = load_digits(return_X_y=True)\n",
        "Perceptron()\n",
        "clf = Perceptron(tol=1e-6, random_state=0) # set the conditions\n",
        "\n",
        "clf.fit(X_test, y_test)\n",
        "\n",
        "clf.score(X_test, y_test)"
      ],
      "metadata": {
        "id": "M42H1aRpLHrn"
      },
      "execution_count": null,
      "outputs": []
    },
    {
      "cell_type": "code",
      "source": [
        "from sklearn.datasets import load_digits\n",
        "from sklearn.linear_model import Perceptron\n",
        "X_train2, y_train2 = load_digits(return_X_y=True)\n",
        "Perceptron()\n",
        "clf = Perceptron(tol= 1e-06, random_state=0)\n",
        "clf.fit(X_test2, y_test2)\n",
        "\n",
        "clf.score(X_test2, y_test2)"
      ],
      "metadata": {
        "id": "25zfddoINmDE"
      },
      "execution_count": null,
      "outputs": []
    },
    {
      "cell_type": "markdown",
      "source": [
        "# **KNN**"
      ],
      "metadata": {
        "id": "orrh-sCXLFPd"
      }
    },
    {
      "cell_type": "code",
      "source": [
        "\n",
        "k_range = range(2,3)\n",
        "scores = {}\n",
        "scores_list = []\n",
        "\n",
        "\n",
        "knn = KNeighborsClassifier(n_neighbors=2)\n",
        "knn.fit(X_train,y_train)\n",
        "y_pred_knn = knn.predict(X_test)\n",
        "scores[2] = metrics.accuracy_score(y_test,y_pred_knn)\n",
        "scores_list.append(metrics.accuracy_score(y_test,y_pred_knn))\n",
        "\n",
        "print('Accuracy:',scores_list)\n"
      ],
      "metadata": {
        "colab": {
          "base_uri": "https://localhost:8080/"
        },
        "id": "LqZ6raMzcmes",
        "outputId": "c01851a2-3c16-46c6-febd-b61e0ca51abe"
      },
      "execution_count": null,
      "outputs": [
        {
          "output_type": "stream",
          "name": "stdout",
          "text": [
            "Accuracy: [0.6666666666666666]\n"
          ]
        }
      ]
    },
    {
      "cell_type": "code",
      "source": [
        "plt.figure(figsize = (15,5))\n",
        "plt.subplot(1,2,1)\n",
        "plt.scatter(X_test.iloc[:,0], X_test.iloc[:,1], c=y_pred_knn, s=100 ,edgecolors='black')\n",
        "plt.title(\"Predicted values with k=2 (Normal Data)\", fontsize=20)\n"
      ],
      "metadata": {
        "id": "4WpI8idWrtBd"
      },
      "execution_count": null,
      "outputs": []
    },
    {
      "cell_type": "code",
      "source": [
        "\n",
        "k_range = range(2,3)\n",
        "scores2 = {}\n",
        "scores_list2 = []\n",
        "\n",
        "\n",
        "knn2 = KNeighborsClassifier(n_neighbors=2)\n",
        "knn2.fit(X_train2,y_train2)\n",
        "y_pred_knn2 = knn2.predict(X_test2)\n",
        "scores2[2] = metrics.accuracy_score(y_test2,y_pred_knn2)\n",
        "scores_list2.append(metrics.accuracy_score(y_test2,y_pred_knn2))\n",
        "\n",
        "print('Accuracy:',scores_list2)"
      ],
      "metadata": {
        "colab": {
          "base_uri": "https://localhost:8080/"
        },
        "id": "E6UOb4jGPbve",
        "outputId": "1ea8ee68-61e8-4822-d4f5-0a7661d3b430"
      },
      "execution_count": null,
      "outputs": [
        {
          "output_type": "stream",
          "name": "stdout",
          "text": [
            "Accuracy: [0.5833333333333334]\n"
          ]
        }
      ]
    },
    {
      "cell_type": "code",
      "source": [
        "from sklearn.ensemble import RandomForestClassifier\n",
        "from sklearn.metrics import RocCurveDisplay\n",
        "from sklearn.model_selection import train_test_split\n",
        "from sklearn.svm import SVC\n",
        "\n",
        "\n",
        "\n",
        "X_train, X_test, y_train, y_test = train_test_split(bact, info, random_state=42)\n",
        "svc = SVC(random_state=63)\n",
        "svc.fit(X_train, y_train)\n",
        "\n",
        "\n",
        "svc_disp = RocCurveDisplay.from_estimator(svc, X_test, y_test)\n",
        "\n",
        "\n"
      ],
      "metadata": {
        "id": "-17J_72_8mlt"
      },
      "execution_count": null,
      "outputs": []
    },
    {
      "cell_type": "code",
      "source": [
        "\n",
        "\n",
        "\n",
        "ax = plt.gca()\n",
        "knn_disp = RocCurveDisplay.from_estimator(knn, X_test, y_test, ax=ax, alpha=.8)\n",
        "svc_disp.plot(ax=ax, alpha=.8)\n",
        "plt.show()"
      ],
      "metadata": {
        "colab": {
          "base_uri": "https://localhost:8080/",
          "height": 449
        },
        "id": "0VKvwsMN-RLZ",
        "outputId": "24b51f07-8bd3-4319-e561-07feedacb1bb"
      },
      "execution_count": null,
      "outputs": [
        {
          "output_type": "display_data",
          "data": {
            "text/plain": [
              "<Figure size 640x480 with 1 Axes>"
            ],
            "image/png": "[encoded data removed]"
          },
          "metadata": {}
        }
      ]
    },
    {
      "cell_type": "code",
      "source": [
        "plt.figure(figsize = (15,5))\n",
        "plt.subplot(1,2,1)\n",
        "plt.scatter(X_test2.iloc[:,0], X_test2.iloc[:,1], c=y_pred_knn2, s=100 ,edgecolors='black')\n",
        "plt.title(\"Predicted values with k=2 (Stratfied Data)\", fontsize=20)"
      ],
      "metadata": {
        "id": "QJb7dgTJzVbR"
      },
      "execution_count": null,
      "outputs": []
    },
    {
      "cell_type": "code",
      "source": [
        "from sklearn.metrics import confusion_matrix\n",
        "\n",
        "\n",
        "print(metrics.confusion_matrix(y_test, y_pred_knn))\n",
        "print(metrics.classification_report(y_test, y_pred_knn))\n",
        "\n",
        "import seaborn as sns\n",
        "# Making the Confusion Matrix\n",
        "from sklearn.metrics import confusion_matrix\n",
        "# providing actual and predicted values\n",
        "cm = confusion_matrix(y_test, y_pred_knn)\n",
        "\n",
        "cm_df = pd.DataFrame(\n",
        "    cm,\n",
        "    index = [idx for idx in ['Successful', 'Miscarriage']],\n",
        "    columns = [col for col in ['Successful (pred)', 'Miscarriage (pred)']])\n",
        "\n",
        "# If True, write the data value in each cell\n",
        "sns.heatmap(cm_df,annot=True)\n",
        "# saving confusion matrix in png form\n",
        "\n",
        "print(cm_df)"
      ],
      "metadata": {
        "colab": {
          "base_uri": "https://localhost:8080/",
          "height": 680
        },
        "id": "M-IyNXk58jEP",
        "outputId": "58c0c8a6-dfa4-43db-e8b2-dd6cd7d693af"
      },
      "execution_count": null,
      "outputs": [
        {
          "output_type": "stream",
          "name": "stdout",
          "text": [
            "[[24  3]\n",
            " [13  8]]\n",
            "              precision    recall  f1-score   support\n",
            "\n",
            "           0       0.65      0.89      0.75        27\n",
            "           1       0.73      0.38      0.50        21\n",
            "\n",
            "    accuracy                           0.67        48\n",
            "   macro avg       0.69      0.63      0.62        48\n",
            "weighted avg       0.68      0.67      0.64        48\n",
            "\n",
            "             Successful (pred)  Miscarriage (pred)\n",
            "Successful                  24                   3\n",
            "Miscarriage                 13                   8\n"
          ]
        },
        {
          "output_type": "display_data",
          "data": {
            "text/plain": [
              "<Figure size 640x480 with 2 Axes>"
            ],
            "image/png": "[encoded data removed]"
          },
          "metadata": {}
        }
      ]
    },
    {
      "cell_type": "code",
      "source": [
        "from sklearn.metrics import confusion_matrix\n",
        "\n",
        "\n",
        "print(metrics.confusion_matrix(y_test2, y_pred_knn2))\n",
        "print(metrics.classification_report(y_test2, y_pred_knn2))\n",
        "\n",
        "import seaborn as sns\n",
        "# Making the Confusion Matrix\n",
        "from sklearn.metrics import confusion_matrix\n",
        "# providing actual and predicted values\n",
        "cm2 = confusion_matrix(y_test2, y_pred_knn2)\n",
        "\n",
        "cm_df2 = pd.DataFrame(\n",
        "    cm2,\n",
        "    index = [idx for idx in ['Successful', 'Miscarriage']],\n",
        "    columns = [col for col in ['Successful (pred)', 'Miscarriage (pred)']])\n",
        "\n",
        "# If True, write the data value in each cell\n",
        "sns.heatmap(cm_df2,annot=True)\n",
        "# saving confusion matrix in png form\n",
        "\n",
        "print(cm_df2)"
      ],
      "metadata": {
        "colab": {
          "base_uri": "https://localhost:8080/",
          "height": 685
        },
        "id": "A2pLg2G4_cT5",
        "outputId": "a08a0c35-0ef9-463f-de04-cd463aec98df"
      },
      "execution_count": null,
      "outputs": [
        {
          "output_type": "stream",
          "name": "stdout",
          "text": [
            "[[20  5]\n",
            " [15  8]]\n",
            "              precision    recall  f1-score   support\n",
            "\n",
            "           0       0.57      0.80      0.67        25\n",
            "           1       0.62      0.35      0.44        23\n",
            "\n",
            "    accuracy                           0.58        48\n",
            "   macro avg       0.59      0.57      0.56        48\n",
            "weighted avg       0.59      0.58      0.56        48\n",
            "\n",
            "             Successful (pred)  Miscarriage (pred)\n",
            "Successful                  20                   5\n",
            "Miscarriage                 15                   8\n"
          ]
        },
        {
          "output_type": "display_data",
          "data": {
            "text/plain": [
              "<Figure size 640x480 with 2 Axes>"
            ],
            "image/png": "[encoded data removed]"
          },
          "metadata": {}
        }
      ]
    },
    {
      "cell_type": "code",
      "source": [
        "\n",
        "\n",
        "\n",
        "ax = plt.gca()\n",
        "knn_disp = RocCurveDisplay.from_estimator(knn2, X_test2, y_test2, ax=ax, alpha=.8)\n",
        "svc_disp.plot(ax=ax, alpha=.8)\n",
        "plt.show()"
      ],
      "metadata": {
        "colab": {
          "base_uri": "https://localhost:8080/",
          "height": 449
        },
        "id": "EBjJAKX__Wo7",
        "outputId": "9c5bb352-b9f6-4ee6-9a17-0b78d81822dd"
      },
      "execution_count": null,
      "outputs": [
        {
          "output_type": "display_data",
          "data": {
            "text/plain": [
              "<Figure size 640x480 with 1 Axes>"
            ],
            "image/png": "[encoded data removed]"
          },
          "metadata": {}
        }
      ]
    },
    {
      "cell_type": "markdown",
      "source": [
        "# **K Means Clustering**"
      ],
      "metadata": {
        "id": "SFMsc2WrQonB"
      }
    },
    {
      "cell_type": "code",
      "source": [
        "X = pd.read_csv(\"/content/help.csv\")\n",
        "\n",
        "# Carry out PCA on X\n",
        "miscarriage = pd.read_csv(\"/content/binaryclass.csv\")\n",
        "\n",
        "\n",
        "add = miscarriage[\"Miscarriage (1=miscarriage, 0=success)\"]\n",
        "\n",
        "\n",
        "# X.insert(1, \"Status\", add)\n",
        "\n",
        "pca = PCA(n_components=2)\n",
        "# TODO: Run PCA on X to get the first 2 principal components\n",
        "# use .fit_transform()\n",
        "X_pca = pca.fit_transform(X)\n",
        "\n",
        "\n",
        "\n",
        "pca = PCA(n_components=2)\n",
        "# TODO: Run PCA on X to get the first 2 principal components\n",
        "# use .fit_transform()\n",
        "\n",
        "\n",
        "print(X_pca) #see the makeup of the data after going through pca #this shows something but i have no idea what it could be\n"
      ],
      "metadata": {
        "id": "FeJHzxDfYiBO"
      },
      "execution_count": null,
      "outputs": []
    },
    {
      "cell_type": "code",
      "source": [
        "\n",
        "from sklearn.metrics import silhouette_score\n",
        "\n",
        "k_range = range(2,4)\n",
        "range_n_clusters = [2,3,4]\n",
        "for n_clusters in range_n_clusters:\n",
        "  clusterer = KMeans(n_clusters=n_clusters, random_state=10)\n",
        "  cluster_labels = clusterer.fit_predict(X_pca[:1])\n",
        "  silhouette_avg = silhouette_score(X_pca[:1], cluster_labels)\n",
        "  print(\"For n_clusters = \", n_clusters,\n",
        "        \"The average silhouette coefficient is:\", silhouette_avg)\n",
        "  plt.scatter(X_pca[:1], info, c = cluster_labels);\n",
        "  plt.show();"
      ],
      "metadata": {
        "id": "l4fDYXb1geHb"
      },
      "execution_count": null,
      "outputs": []
    },
    {
      "cell_type": "code",
      "source": [
        "X_pca.shape #see the makeup of the data after going through pca\n",
        "#this shows something but i have no idea what it could be\n",
        "fig,ax = plt.subplots(figsize=(10,10))\n",
        "sns.scatterplot(data=X_pca,ax=ax)\n",
        "plt.xlabel('PC1')\n",
        "plt.ylabel('PC2')\n",
        "plt.show()"
      ],
      "metadata": {
        "id": "6VVrzXTEXUPu"
      },
      "execution_count": null,
      "outputs": []
    },
    {
      "cell_type": "code",
      "source": [
        "kmeans = KMeans(n_clusters=2)\n",
        "help = kmeans.fit(bact)\n",
        "\n",
        "plt.scatter(bact.iloc[:,0], bact.iloc[:,1], c=info.iloc[:,0])\n",
        "plt.show()\n",
        "\n",
        "silhouette_avg = silhouette_score(bact.iloc[:,0:1], help)\n",
        "\n",
        "print(silhouette_avg)\n"
      ],
      "metadata": {
        "colab": {
          "base_uri": "https://localhost:8080/",
          "height": 877
        },
        "id": "WhVchVuIBSfy",
        "outputId": "3fc547f6-717d-4b40-983d-ee34bcbc992d"
      },
      "execution_count": null,
      "outputs": [
        {
          "output_type": "stream",
          "name": "stderr",
          "text": [
            "/usr/local/lib/python3.10/dist-packages/sklearn/cluster/_kmeans.py:870: FutureWarning: The default value of `n_init` will change from 10 to 'auto' in 1.4. Set the value of `n_init` explicitly to suppress the warning\n",
            "  warnings.warn(\n"
          ]
        },
        {
          "output_type": "display_data",
          "data": {
            "text/plain": [
              "<Figure size 640x480 with 1 Axes>"
            ],
            "image/png": "[encoded data removed]"
          },
          "metadata": {}
        },
        {
          "output_type": "error",
          "ename": "ValueError",
          "evalue": "ignored",
          "traceback": [
            "\u001b[0;31m---------------------------------------------------------------------------\u001b[0m",
            "\u001b[0;31mValueError\u001b[0m                                Traceback (most recent call last)",
            "\u001b[0;32m<ipython-input-120-d8ce30977df4>\u001b[0m in \u001b[0;36m<cell line: 7>\u001b[0;34m()\u001b[0m\n\u001b[1;32m      5\u001b[0m \u001b[0mplt\u001b[0m\u001b[0;34m.\u001b[0m\u001b[0mshow\u001b[0m\u001b[0;34m(\u001b[0m\u001b[0;34m)\u001b[0m\u001b[0;34m\u001b[0m\u001b[0;34m\u001b[0m\u001b[0m\n\u001b[1;32m      6\u001b[0m \u001b[0;34m\u001b[0m\u001b[0m\n\u001b[0;32m----> 7\u001b[0;31m \u001b[0msilhouette_avg\u001b[0m \u001b[0;34m=\u001b[0m \u001b[0msilhouette_score\u001b[0m\u001b[0;34m(\u001b[0m\u001b[0mbact\u001b[0m\u001b[0;34m.\u001b[0m\u001b[0miloc\u001b[0m\u001b[0;34m[\u001b[0m\u001b[0;34m:\u001b[0m\u001b[0;34m,\u001b[0m\u001b[0;36m0\u001b[0m\u001b[0;34m:\u001b[0m\u001b[0;36m1\u001b[0m\u001b[0;34m]\u001b[0m\u001b[0;34m,\u001b[0m \u001b[0mhelp\u001b[0m\u001b[0;34m)\u001b[0m\u001b[0;34m\u001b[0m\u001b[0;34m\u001b[0m\u001b[0m\n\u001b[0m\u001b[1;32m      8\u001b[0m \u001b[0;34m\u001b[0m\u001b[0m\n\u001b[1;32m      9\u001b[0m \u001b[0mprint\u001b[0m\u001b[0;34m(\u001b[0m\u001b[0msilhouette_avg\u001b[0m\u001b[0;34m)\u001b[0m\u001b[0;34m\u001b[0m\u001b[0;34m\u001b[0m\u001b[0m\n",
            "\u001b[0;32m/usr/local/lib/python3.10/dist-packages/sklearn/metrics/cluster/_unsupervised.py\u001b[0m in \u001b[0;36msilhouette_score\u001b[0;34m(X, labels, metric, sample_size, random_state, **kwds)\u001b[0m\n\u001b[1;32m    115\u001b[0m         \u001b[0;32melse\u001b[0m\u001b[0;34m:\u001b[0m\u001b[0;34m\u001b[0m\u001b[0;34m\u001b[0m\u001b[0m\n\u001b[1;32m    116\u001b[0m             \u001b[0mX\u001b[0m\u001b[0;34m,\u001b[0m \u001b[0mlabels\u001b[0m \u001b[0;34m=\u001b[0m \u001b[0mX\u001b[0m\u001b[0;34m[\u001b[0m\u001b[0mindices\u001b[0m\u001b[0;34m]\u001b[0m\u001b[0;34m,\u001b[0m \u001b[0mlabels\u001b[0m\u001b[0;34m[\u001b[0m\u001b[0mindices\u001b[0m\u001b[0;34m]\u001b[0m\u001b[0;34m\u001b[0m\u001b[0;34m\u001b[0m\u001b[0m\n\u001b[0;32m--> 117\u001b[0;31m     \u001b[0;32mreturn\u001b[0m \u001b[0mnp\u001b[0m\u001b[0;34m.\u001b[0m\u001b[0mmean\u001b[0m\u001b[0;34m(\u001b[0m\u001b[0msilhouette_samples\u001b[0m\u001b[0;34m(\u001b[0m\u001b[0mX\u001b[0m\u001b[0;34m,\u001b[0m \u001b[0mlabels\u001b[0m\u001b[0;34m,\u001b[0m \u001b[0mmetric\u001b[0m\u001b[0;34m=\u001b[0m\u001b[0mmetric\u001b[0m\u001b[0;34m,\u001b[0m \u001b[0;34m**\u001b[0m\u001b[0mkwds\u001b[0m\u001b[0;34m)\u001b[0m\u001b[0;34m)\u001b[0m\u001b[0;34m\u001b[0m\u001b[0;34m\u001b[0m\u001b[0m\n\u001b[0m\u001b[1;32m    118\u001b[0m \u001b[0;34m\u001b[0m\u001b[0m\n\u001b[1;32m    119\u001b[0m \u001b[0;34m\u001b[0m\u001b[0m\n",
            "\u001b[0;32m/usr/local/lib/python3.10/dist-packages/sklearn/metrics/cluster/_unsupervised.py\u001b[0m in \u001b[0;36msilhouette_samples\u001b[0;34m(X, labels, metric, **kwds)\u001b[0m\n\u001b[1;32m    210\u001b[0m        \u001b[0;34m<\u001b[0m\u001b[0mhttps\u001b[0m\u001b[0;34m:\u001b[0m\u001b[0;34m//\u001b[0m\u001b[0men\u001b[0m\u001b[0;34m.\u001b[0m\u001b[0mwikipedia\u001b[0m\u001b[0;34m.\u001b[0m\u001b[0morg\u001b[0m\u001b[0;34m/\u001b[0m\u001b[0mwiki\u001b[0m\u001b[0;34m/\u001b[0m\u001b[0mSilhouette_\u001b[0m\u001b[0;34m(\u001b[0m\u001b[0mclustering\u001b[0m\u001b[0;34m)\u001b[0m\u001b[0;34m>\u001b[0m\u001b[0;31m`\u001b[0m\u001b[0m_\u001b[0m\u001b[0;34m\u001b[0m\u001b[0;34m\u001b[0m\u001b[0m\n\u001b[1;32m    211\u001b[0m     \"\"\"\n\u001b[0;32m--> 212\u001b[0;31m     \u001b[0mX\u001b[0m\u001b[0;34m,\u001b[0m \u001b[0mlabels\u001b[0m \u001b[0;34m=\u001b[0m \u001b[0mcheck_X_y\u001b[0m\u001b[0;34m(\u001b[0m\u001b[0mX\u001b[0m\u001b[0;34m,\u001b[0m \u001b[0mlabels\u001b[0m\u001b[0;34m,\u001b[0m \u001b[0maccept_sparse\u001b[0m\u001b[0;34m=\u001b[0m\u001b[0;34m[\u001b[0m\u001b[0;34m\"csc\"\u001b[0m\u001b[0;34m,\u001b[0m \u001b[0;34m\"csr\"\u001b[0m\u001b[0;34m]\u001b[0m\u001b[0;34m)\u001b[0m\u001b[0;34m\u001b[0m\u001b[0;34m\u001b[0m\u001b[0m\n\u001b[0m\u001b[1;32m    213\u001b[0m \u001b[0;34m\u001b[0m\u001b[0m\n\u001b[1;32m    214\u001b[0m     \u001b[0;31m# Check for non-zero diagonal entries in precomputed distance matrix\u001b[0m\u001b[0;34m\u001b[0m\u001b[0;34m\u001b[0m\u001b[0m\n",
            "\u001b[0;32m/usr/local/lib/python3.10/dist-packages/sklearn/utils/validation.py\u001b[0m in \u001b[0;36mcheck_X_y\u001b[0;34m(X, y, accept_sparse, accept_large_sparse, dtype, order, copy, force_all_finite, ensure_2d, allow_nd, multi_output, ensure_min_samples, ensure_min_features, y_numeric, estimator)\u001b[0m\n\u001b[1;32m   1120\u001b[0m     )\n\u001b[1;32m   1121\u001b[0m \u001b[0;34m\u001b[0m\u001b[0m\n\u001b[0;32m-> 1122\u001b[0;31m     \u001b[0my\u001b[0m \u001b[0;34m=\u001b[0m \u001b[0m_check_y\u001b[0m\u001b[0;34m(\u001b[0m\u001b[0my\u001b[0m\u001b[0;34m,\u001b[0m \u001b[0mmulti_output\u001b[0m\u001b[0;34m=\u001b[0m\u001b[0mmulti_output\u001b[0m\u001b[0;34m,\u001b[0m \u001b[0my_numeric\u001b[0m\u001b[0;34m=\u001b[0m\u001b[0my_numeric\u001b[0m\u001b[0;34m,\u001b[0m \u001b[0mestimator\u001b[0m\u001b[0;34m=\u001b[0m\u001b[0mestimator\u001b[0m\u001b[0;34m)\u001b[0m\u001b[0;34m\u001b[0m\u001b[0;34m\u001b[0m\u001b[0m\n\u001b[0m\u001b[1;32m   1123\u001b[0m \u001b[0;34m\u001b[0m\u001b[0m\n\u001b[1;32m   1124\u001b[0m     \u001b[0mcheck_consistent_length\u001b[0m\u001b[0;34m(\u001b[0m\u001b[0mX\u001b[0m\u001b[0;34m,\u001b[0m \u001b[0my\u001b[0m\u001b[0;34m)\u001b[0m\u001b[0;34m\u001b[0m\u001b[0;34m\u001b[0m\u001b[0m\n",
            "\u001b[0;32m/usr/local/lib/python3.10/dist-packages/sklearn/utils/validation.py\u001b[0m in \u001b[0;36m_check_y\u001b[0;34m(y, multi_output, y_numeric, estimator)\u001b[0m\n\u001b[1;32m   1141\u001b[0m     \u001b[0;32melse\u001b[0m\u001b[0;34m:\u001b[0m\u001b[0;34m\u001b[0m\u001b[0;34m\u001b[0m\u001b[0m\n\u001b[1;32m   1142\u001b[0m         \u001b[0mestimator_name\u001b[0m \u001b[0;34m=\u001b[0m \u001b[0m_check_estimator_name\u001b[0m\u001b[0;34m(\u001b[0m\u001b[0mestimator\u001b[0m\u001b[0;34m)\u001b[0m\u001b[0;34m\u001b[0m\u001b[0;34m\u001b[0m\u001b[0m\n\u001b[0;32m-> 1143\u001b[0;31m         \u001b[0my\u001b[0m \u001b[0;34m=\u001b[0m \u001b[0mcolumn_or_1d\u001b[0m\u001b[0;34m(\u001b[0m\u001b[0my\u001b[0m\u001b[0;34m,\u001b[0m \u001b[0mwarn\u001b[0m\u001b[0;34m=\u001b[0m\u001b[0;32mTrue\u001b[0m\u001b[0;34m)\u001b[0m\u001b[0;34m\u001b[0m\u001b[0;34m\u001b[0m\u001b[0m\n\u001b[0m\u001b[1;32m   1144\u001b[0m         \u001b[0m_assert_all_finite\u001b[0m\u001b[0;34m(\u001b[0m\u001b[0my\u001b[0m\u001b[0;34m,\u001b[0m \u001b[0minput_name\u001b[0m\u001b[0;34m=\u001b[0m\u001b[0;34m\"y\"\u001b[0m\u001b[0;34m,\u001b[0m \u001b[0mestimator_name\u001b[0m\u001b[0;34m=\u001b[0m\u001b[0mestimator_name\u001b[0m\u001b[0;34m)\u001b[0m\u001b[0;34m\u001b[0m\u001b[0;34m\u001b[0m\u001b[0m\n\u001b[1;32m   1145\u001b[0m         \u001b[0m_ensure_no_complex_data\u001b[0m\u001b[0;34m(\u001b[0m\u001b[0my\u001b[0m\u001b[0;34m)\u001b[0m\u001b[0;34m\u001b[0m\u001b[0;34m\u001b[0m\u001b[0m\n",
            "\u001b[0;32m/usr/local/lib/python3.10/dist-packages/sklearn/utils/validation.py\u001b[0m in \u001b[0;36mcolumn_or_1d\u001b[0;34m(y, dtype, warn)\u001b[0m\n\u001b[1;32m   1200\u001b[0m         \u001b[0;32mreturn\u001b[0m \u001b[0m_asarray_with_order\u001b[0m\u001b[0;34m(\u001b[0m\u001b[0mxp\u001b[0m\u001b[0;34m.\u001b[0m\u001b[0mreshape\u001b[0m\u001b[0;34m(\u001b[0m\u001b[0my\u001b[0m\u001b[0;34m,\u001b[0m \u001b[0;34m-\u001b[0m\u001b[0;36m1\u001b[0m\u001b[0;34m)\u001b[0m\u001b[0;34m,\u001b[0m \u001b[0morder\u001b[0m\u001b[0;34m=\u001b[0m\u001b[0;34m\"C\"\u001b[0m\u001b[0;34m,\u001b[0m \u001b[0mxp\u001b[0m\u001b[0;34m=\u001b[0m\u001b[0mxp\u001b[0m\u001b[0;34m)\u001b[0m\u001b[0;34m\u001b[0m\u001b[0;34m\u001b[0m\u001b[0m\n\u001b[1;32m   1201\u001b[0m \u001b[0;34m\u001b[0m\u001b[0m\n\u001b[0;32m-> 1202\u001b[0;31m     raise ValueError(\n\u001b[0m\u001b[1;32m   1203\u001b[0m         \u001b[0;34m\"y should be a 1d array, got an array of shape {} instead.\"\u001b[0m\u001b[0;34m.\u001b[0m\u001b[0mformat\u001b[0m\u001b[0;34m(\u001b[0m\u001b[0mshape\u001b[0m\u001b[0;34m)\u001b[0m\u001b[0;34m\u001b[0m\u001b[0;34m\u001b[0m\u001b[0m\n\u001b[1;32m   1204\u001b[0m     )\n",
            "\u001b[0;31mValueError\u001b[0m: y should be a 1d array, got an array of shape () instead."
          ]
        }
      ]
    },
    {
      "cell_type": "code",
      "source": [
        "# Create our KMeans classifier\n",
        "# n_clusters specifies what value of k to use (how many clusters)\n",
        "kmeans_clf = KMeans(n_clusters=2)\n",
        "\n",
        "y_pred = kmeans_clf.fit_predict(X_pca)\n",
        "# Make the plot a relatively small size\n",
        "plt.figure(figsize=(8, 8))\n",
        "\n",
        "\n",
        "plt.scatter(X_pca[:, 0], X_pca[:, 1], c=y_pred)\n",
        "# Add labels and a title\n",
        "plt.xlabel('x')\n",
        "plt.ylabel('y')\n",
        "\n",
        "silhouette_avg = silhouette_score(X_pca, y_pred)\n",
        "\n",
        "print(silhouette_avg)\n",
        "\n",
        "plt.title('PCA KMeans Plot')"
      ],
      "metadata": {
        "colab": {
          "base_uri": "https://localhost:8080/",
          "height": 809
        },
        "id": "4r3t3t2KeKq1",
        "outputId": "1b9991bd-39eb-4a5f-e33e-6d1716170e09"
      },
      "execution_count": null,
      "outputs": [
        {
          "output_type": "stream",
          "name": "stdout",
          "text": [
            "0.5891917980533296\n"
          ]
        },
        {
          "output_type": "stream",
          "name": "stderr",
          "text": [
            "/usr/local/lib/python3.10/dist-packages/sklearn/cluster/_kmeans.py:870: FutureWarning: The default value of `n_init` will change from 10 to 'auto' in 1.4. Set the value of `n_init` explicitly to suppress the warning\n",
            "  warnings.warn(\n"
          ]
        },
        {
          "output_type": "execute_result",
          "data": {
            "text/plain": [
              "Text(0.5, 1.0, 'PCA KMeans Plot')"
            ]
          },
          "metadata": {},
          "execution_count": 84
        },
        {
          "output_type": "display_data",
          "data": {
            "text/plain": [
              "<Figure size 800x800 with 1 Axes>"
            ],
            "image/png": "[encoded data removed]"
          },
          "metadata": {}
        }
      ]
    },
    {
      "cell_type": "markdown",
      "source": [
        "# **Random Forest**"
      ],
      "metadata": {
        "id": "UrvyfT8vReGY"
      }
    },
    {
      "cell_type": "code",
      "source": [
        "from sklearn.ensemble import RandomForestClassifier\n",
        "from sklearn.metrics import RocCurveDisplay\n",
        "from sklearn.model_selection import train_test_split\n",
        "from sklearn.svm import SVC\n",
        "\n",
        "\n",
        "\n",
        "X_train, X_test, y_train, y_test = train_test_split(bact, info, random_state=42)\n",
        "svc = SVC(random_state=63)\n",
        "svc.fit(X_train, y_train)\n",
        "\n",
        "\n",
        "svc_disp = RocCurveDisplay.from_estimator(svc, X_test, y_test)\n",
        "plt.show()\n",
        "\n",
        "#auc = area under the curve\n",
        "# svc = super accurate classifier that creates a new dimension\n",
        "# for each of the traits of the data and then draws a plane through them\n",
        "# creating a super accurate way of dividing the data\n"
      ],
      "metadata": {
        "colab": {
          "base_uri": "https://localhost:8080/",
          "height": 449
        },
        "id": "WxbN7ae1TOSW",
        "outputId": "80674d51-fa9e-46f5-854d-33ec866e383d"
      },
      "execution_count": null,
      "outputs": [
        {
          "output_type": "display_data",
          "data": {
            "text/plain": [
              "<Figure size 640x480 with 1 Axes>"
            ],
            "image/png": "[encoded data removed]"
          },
          "metadata": {}
        }
      ]
    },
    {
      "cell_type": "code",
      "source": [
        "rfc = RandomForestClassifier(n_estimators=7, random_state=0)\n",
        "rfc.fit(X_train, y_train)\n",
        "ax = plt.gca()\n",
        "rfc_disp = RocCurveDisplay.from_estimator(rfc, X_test, y_test, ax=ax, alpha=.8)\n",
        "svc_disp.plot(ax=ax, alpha=.8)\n",
        "plt.show()\n"
      ],
      "metadata": {
        "colab": {
          "base_uri": "https://localhost:8080/",
          "height": 210
        },
        "id": "_7h-Ns33TOM_",
        "outputId": "98d5d07d-4c48-4509-dce9-73e5b62b4216"
      },
      "execution_count": null,
      "outputs": [
        {
          "output_type": "error",
          "ename": "NameError",
          "evalue": "name 'X_train' is not defined",
          "traceback": [
            "\u001b[0;31m---------------------------------------------------------------------------\u001b[0m",
            "\u001b[0;31mNameError\u001b[0m                                 Traceback (most recent call last)",
            "\u001b[0;32m<ipython-input-16-73b3db98890c>\u001b[0m in \u001b[0;36m<cell line: 2>\u001b[0;34m()\u001b[0m\n\u001b[1;32m      1\u001b[0m \u001b[0mrfc\u001b[0m \u001b[0;34m=\u001b[0m \u001b[0mRandomForestClassifier\u001b[0m\u001b[0;34m(\u001b[0m\u001b[0mn_estimators\u001b[0m\u001b[0;34m=\u001b[0m\u001b[0;36m7\u001b[0m\u001b[0;34m,\u001b[0m \u001b[0mrandom_state\u001b[0m\u001b[0;34m=\u001b[0m\u001b[0;36m0\u001b[0m\u001b[0;34m)\u001b[0m\u001b[0;34m\u001b[0m\u001b[0;34m\u001b[0m\u001b[0m\n\u001b[0;32m----> 2\u001b[0;31m \u001b[0mrfc\u001b[0m\u001b[0;34m.\u001b[0m\u001b[0mfit\u001b[0m\u001b[0;34m(\u001b[0m\u001b[0mX_train\u001b[0m\u001b[0;34m,\u001b[0m \u001b[0my_train\u001b[0m\u001b[0;34m)\u001b[0m\u001b[0;34m\u001b[0m\u001b[0;34m\u001b[0m\u001b[0m\n\u001b[0m\u001b[1;32m      3\u001b[0m \u001b[0max\u001b[0m \u001b[0;34m=\u001b[0m \u001b[0mplt\u001b[0m\u001b[0;34m.\u001b[0m\u001b[0mgca\u001b[0m\u001b[0;34m(\u001b[0m\u001b[0;34m)\u001b[0m\u001b[0;34m\u001b[0m\u001b[0;34m\u001b[0m\u001b[0m\n\u001b[1;32m      4\u001b[0m \u001b[0mrfc_disp\u001b[0m \u001b[0;34m=\u001b[0m \u001b[0mRocCurveDisplay\u001b[0m\u001b[0;34m.\u001b[0m\u001b[0mfrom_estimator\u001b[0m\u001b[0;34m(\u001b[0m\u001b[0mrfc\u001b[0m\u001b[0;34m,\u001b[0m \u001b[0mX_test\u001b[0m\u001b[0;34m,\u001b[0m \u001b[0my_test\u001b[0m\u001b[0;34m,\u001b[0m \u001b[0max\u001b[0m\u001b[0;34m=\u001b[0m\u001b[0max\u001b[0m\u001b[0;34m,\u001b[0m \u001b[0malpha\u001b[0m\u001b[0;34m=\u001b[0m\u001b[0;36m.8\u001b[0m\u001b[0;34m)\u001b[0m\u001b[0;34m\u001b[0m\u001b[0;34m\u001b[0m\u001b[0m\n\u001b[1;32m      5\u001b[0m \u001b[0msvc_disp\u001b[0m\u001b[0;34m.\u001b[0m\u001b[0mplot\u001b[0m\u001b[0;34m(\u001b[0m\u001b[0max\u001b[0m\u001b[0;34m=\u001b[0m\u001b[0max\u001b[0m\u001b[0;34m,\u001b[0m \u001b[0malpha\u001b[0m\u001b[0;34m=\u001b[0m\u001b[0;36m.8\u001b[0m\u001b[0;34m)\u001b[0m\u001b[0;34m\u001b[0m\u001b[0;34m\u001b[0m\u001b[0m\n",
            "\u001b[0;31mNameError\u001b[0m: name 'X_train' is not defined"
          ]
        }
      ]
    },
    {
      "cell_type": "code",
      "source": [
        "from sklearn.ensemble import RandomForestClassifier\n",
        "from sklearn.metrics import accuracy_score, confusion_matrix, precision_score, recall_score, ConfusionMatrixDisplay\n",
        "from sklearn.model_selection import RandomizedSearchCV, train_test_split\n",
        "from scipy.stats import randint\n",
        "\n",
        "# Tree Visualisation\n",
        "from sklearn.tree import export_graphviz\n",
        "from IPython.display import Image\n",
        "import graphviz\n",
        "\n",
        "\n",
        "\n",
        "\n",
        "\n",
        "rf = RandomForestClassifier()\n",
        "rf.fit(X_train, y_train)\n",
        "y_pred = rf.predict(X_test)\n",
        "accuracy = accuracy_score(y_test, y_pred)\n",
        "print(\"Accuracy:\", accuracy)"
      ],
      "metadata": {
        "colab": {
          "base_uri": "https://localhost:8080/"
        },
        "id": "EI-uUC4ngzA_",
        "outputId": "fb55888f-9724-45bc-da9c-fdc5c92c80c7"
      },
      "execution_count": null,
      "outputs": [
        {
          "output_type": "stream",
          "name": "stdout",
          "text": [
            "Accuracy: 0.475\n"
          ]
        }
      ]
    },
    {
      "cell_type": "code",
      "source": [
        "for i in range(3):\n",
        "    tree = rf.estimators_[i]\n",
        "    dot_data = export_graphviz(tree,\n",
        "                               feature_names=X_train.columns,\n",
        "                               filled=True,\n",
        "                               max_depth=2,\n",
        "                               impurity=False,\n",
        "                               proportion=True)\n",
        "    graph = graphviz.Source(dot_data)\n",
        "    display(graph)"
      ],
      "metadata": {
        "colab": {
          "base_uri": "https://localhost:8080/",
          "height": 1000
        },
        "id": "gUa1HwzthMCD",
        "outputId": "2c83bac9-6cf1-4206-e07b-d308c7eec490"
      },
      "execution_count": null,
      "outputs": [
        {
          "output_type": "display_data",
          "data": {
            "image/svg+xml": "<?xml version=\"1.0\" encoding=\"UTF-8\" standalone=\"no\"?>\n<!DOCTYPE svg PUBLIC \"-//W3C//DTD SVG 1.1//EN\"\n \"http://www.w3.org/Graphics/SVG/1.1/DTD/svg11.dtd\">\n<!-- Generated by graphviz version 2.43.0 (0)\n -->\n<!-- Title: Tree Pages: 1 -->\n<svg width=\"371pt\" height=\"311pt\"\n viewBox=\"0.00 0.00 370.50 311.00\" xmlns=\"http://www.w3.org/2000/svg\" xmlns:xlink=\"http://www.w3.org/1999/xlink\">\n<g id=\"graph0\" class=\"graph\" transform=\"scale(1 1) rotate(0) translate(4 307)\">\n<title>Tree</title>\n<polygon fill=\"white\" stroke=\"transparent\" points=\"-4,4 -4,-307 366.5,-307 366.5,4 -4,4\"/>\n<!-- 0 -->\n<g id=\"node1\" class=\"node\">\n<title>0</title>\n<polygon fill=\"#e6f3fc\" stroke=\"black\" points=\"294.5,-303 147.5,-303 147.5,-250 294.5,-250 294.5,-303\"/>\n<text text-anchor=\"middle\" x=\"221\" y=\"-287.8\" font-family=\"Helvetica,sans-Serif\" font-size=\"14.00\">Atopobium &lt;= 0.041</text>\n<text text-anchor=\"middle\" x=\"221\" y=\"-272.8\" font-family=\"Helvetica,sans-Serif\" font-size=\"14.00\">samples = 100.0%</text>\n<text text-anchor=\"middle\" x=\"221\" y=\"-257.8\" font-family=\"Helvetica,sans-Serif\" font-size=\"14.00\">value = [0.466, 0.534]</text>\n</g>\n<!-- 1 -->\n<g id=\"node2\" class=\"node\">\n<title>1</title>\n<polygon fill=\"#d0e8f9\" stroke=\"black\" points=\"227,-214 49,-214 49,-161 227,-161 227,-214\"/>\n<text text-anchor=\"middle\" x=\"138\" y=\"-198.8\" font-family=\"Helvetica,sans-Serif\" font-size=\"14.00\">Peptostreptococcus &lt;= 0.0</text>\n<text text-anchor=\"middle\" x=\"138\" y=\"-183.8\" font-family=\"Helvetica,sans-Serif\" font-size=\"14.00\">samples = 93.2%</text>\n<text text-anchor=\"middle\" x=\"138\" y=\"-168.8\" font-family=\"Helvetica,sans-Serif\" font-size=\"14.00\">value = [0.432, 0.568]</text>\n</g>\n<!-- 0&#45;&gt;1 -->\n<g id=\"edge1\" class=\"edge\">\n<title>0&#45;&gt;1</title>\n<path fill=\"none\" stroke=\"black\" d=\"M196.55,-249.87C188.09,-241.01 178.5,-230.95 169.56,-221.58\"/>\n<polygon fill=\"black\" stroke=\"black\" points=\"172,-219.07 162.57,-214.25 166.94,-223.9 172,-219.07\"/>\n<text text-anchor=\"middle\" x=\"161.98\" y=\"-235.54\" font-family=\"Helvetica,sans-Serif\" font-size=\"14.00\">True</text>\n</g>\n<!-- 52 -->\n<g id=\"node7\" class=\"node\">\n<title>52</title>\n<polygon fill=\"#e58139\" stroke=\"black\" points=\"362.5,-206.5 245.5,-206.5 245.5,-168.5 362.5,-168.5 362.5,-206.5\"/>\n<text text-anchor=\"middle\" x=\"304\" y=\"-191.3\" font-family=\"Helvetica,sans-Serif\" font-size=\"14.00\">samples = 6.8%</text>\n<text text-anchor=\"middle\" x=\"304\" y=\"-176.3\" font-family=\"Helvetica,sans-Serif\" font-size=\"14.00\">value = [1.0, 0.0]</text>\n</g>\n<!-- 0&#45;&gt;52 -->\n<g id=\"edge6\" class=\"edge\">\n<title>0&#45;&gt;52</title>\n<path fill=\"none\" stroke=\"black\" d=\"M245.45,-249.87C256.25,-238.55 268.92,-225.27 279.7,-213.97\"/>\n<polygon fill=\"black\" stroke=\"black\" points=\"282.45,-216.16 286.82,-206.51 277.39,-211.33 282.45,-216.16\"/>\n<text text-anchor=\"middle\" x=\"287.41\" y=\"-227.8\" font-family=\"Helvetica,sans-Serif\" font-size=\"14.00\">False</text>\n</g>\n<!-- 2 -->\n<g id=\"node3\" class=\"node\">\n<title>2</title>\n<polygon fill=\"#f7fbfe\" stroke=\"black\" points=\"132,-125 0,-125 0,-72 132,-72 132,-125\"/>\n<text text-anchor=\"middle\" x=\"66\" y=\"-109.8\" font-family=\"Helvetica,sans-Serif\" font-size=\"14.00\">Finegoldia &lt;= 0.0</text>\n<text text-anchor=\"middle\" x=\"66\" y=\"-94.8\" font-family=\"Helvetica,sans-Serif\" font-size=\"14.00\">samples = 82.2%</text>\n<text text-anchor=\"middle\" x=\"66\" y=\"-79.8\" font-family=\"Helvetica,sans-Serif\" font-size=\"14.00\">value = [0.49, 0.51]</text>\n</g>\n<!-- 1&#45;&gt;2 -->\n<g id=\"edge2\" class=\"edge\">\n<title>1&#45;&gt;2</title>\n<path fill=\"none\" stroke=\"black\" d=\"M116.79,-160.87C109.6,-152.18 101.46,-142.35 93.84,-133.14\"/>\n<polygon fill=\"black\" stroke=\"black\" points=\"96.38,-130.72 87.31,-125.25 90.99,-135.19 96.38,-130.72\"/>\n</g>\n<!-- 51 -->\n<g id=\"node6\" class=\"node\">\n<title>51</title>\n<polygon fill=\"#399de5\" stroke=\"black\" points=\"272,-117.5 150,-117.5 150,-79.5 272,-79.5 272,-117.5\"/>\n<text text-anchor=\"middle\" x=\"211\" y=\"-102.3\" font-family=\"Helvetica,sans-Serif\" font-size=\"14.00\">samples = 11.0%</text>\n<text text-anchor=\"middle\" x=\"211\" y=\"-87.3\" font-family=\"Helvetica,sans-Serif\" font-size=\"14.00\">value = [0.0, 1.0]</text>\n</g>\n<!-- 1&#45;&gt;51 -->\n<g id=\"edge5\" class=\"edge\">\n<title>1&#45;&gt;51</title>\n<path fill=\"none\" stroke=\"black\" d=\"M159.51,-160.87C168.92,-149.66 179.93,-136.53 189.36,-125.29\"/>\n<polygon fill=\"black\" stroke=\"black\" points=\"192.14,-127.42 195.89,-117.51 186.78,-122.92 192.14,-127.42\"/>\n</g>\n<!-- 3 -->\n<g id=\"node4\" class=\"node\">\n<title>3</title>\n<polygon fill=\"#c0c0c0\" stroke=\"black\" points=\"57,-36 3,-36 3,0 57,0 57,-36\"/>\n<text text-anchor=\"middle\" x=\"30\" y=\"-14.3\" font-family=\"Helvetica,sans-Serif\" font-size=\"14.00\">(...)</text>\n</g>\n<!-- 2&#45;&gt;3 -->\n<g id=\"edge3\" class=\"edge\">\n<title>2&#45;&gt;3</title>\n<path fill=\"none\" stroke=\"black\" d=\"M54.21,-71.8C50.34,-63.35 46.03,-53.95 42.13,-45.45\"/>\n<polygon fill=\"black\" stroke=\"black\" points=\"45.3,-43.96 37.95,-36.33 38.93,-46.88 45.3,-43.96\"/>\n</g>\n<!-- 24 -->\n<g id=\"node5\" class=\"node\">\n<title>24</title>\n<polygon fill=\"#c0c0c0\" stroke=\"black\" points=\"129,-36 75,-36 75,0 129,0 129,-36\"/>\n<text text-anchor=\"middle\" x=\"102\" y=\"-14.3\" font-family=\"Helvetica,sans-Serif\" font-size=\"14.00\">(...)</text>\n</g>\n<!-- 2&#45;&gt;24 -->\n<g id=\"edge4\" class=\"edge\">\n<title>2&#45;&gt;24</title>\n<path fill=\"none\" stroke=\"black\" d=\"M77.79,-71.8C81.66,-63.35 85.97,-53.95 89.87,-45.45\"/>\n<polygon fill=\"black\" stroke=\"black\" points=\"93.07,-46.88 94.05,-36.33 86.7,-43.96 93.07,-46.88\"/>\n</g>\n</g>\n</svg>\n",
            "text/plain": [
              "<graphviz.sources.Source at 0x7b4c0ef0ce20>"
            ]
          },
          "metadata": {}
        },
        {
          "output_type": "display_data",
          "data": {
            "image/svg+xml": "<?xml version=\"1.0\" encoding=\"UTF-8\" standalone=\"no\"?>\n<!DOCTYPE svg PUBLIC \"-//W3C//DTD SVG 1.1//EN\"\n \"http://www.w3.org/Graphics/SVG/1.1/DTD/svg11.dtd\">\n<!-- Generated by graphviz version 2.43.0 (0)\n -->\n<!-- Title: Tree Pages: 1 -->\n<svg width=\"650pt\" height=\"311pt\"\n viewBox=\"0.00 0.00 650.00 311.00\" xmlns=\"http://www.w3.org/2000/svg\" xmlns:xlink=\"http://www.w3.org/1999/xlink\">\n<g id=\"graph0\" class=\"graph\" transform=\"scale(1 1) rotate(0) translate(4 307)\">\n<title>Tree</title>\n<polygon fill=\"white\" stroke=\"transparent\" points=\"-4,4 -4,-307 646,-307 646,4 -4,4\"/>\n<!-- 0 -->\n<g id=\"node1\" class=\"node\">\n<title>0</title>\n<polygon fill=\"#f8fcfe\" stroke=\"black\" points=\"385,-303 238,-303 238,-250 385,-250 385,-303\"/>\n<text text-anchor=\"middle\" x=\"311.5\" y=\"-287.8\" font-family=\"Helvetica,sans-Serif\" font-size=\"14.00\">Peptoniphilus &lt;= 0.0</text>\n<text text-anchor=\"middle\" x=\"311.5\" y=\"-272.8\" font-family=\"Helvetica,sans-Serif\" font-size=\"14.00\">samples = 100.0%</text>\n<text text-anchor=\"middle\" x=\"311.5\" y=\"-257.8\" font-family=\"Helvetica,sans-Serif\" font-size=\"14.00\">value = [0.492, 0.508]</text>\n</g>\n<!-- 1 -->\n<g id=\"node2\" class=\"node\">\n<title>1</title>\n<polygon fill=\"#9ccef2\" stroke=\"black\" points=\"320.5,-214 102.5,-214 102.5,-161 320.5,-161 320.5,-214\"/>\n<text text-anchor=\"middle\" x=\"211.5\" y=\"-198.8\" font-family=\"Helvetica,sans-Serif\" font-size=\"14.00\">Clostridium sensu stricto 1 &lt;= 0.0</text>\n<text text-anchor=\"middle\" x=\"211.5\" y=\"-183.8\" font-family=\"Helvetica,sans-Serif\" font-size=\"14.00\">samples = 30.7%</text>\n<text text-anchor=\"middle\" x=\"211.5\" y=\"-168.8\" font-family=\"Helvetica,sans-Serif\" font-size=\"14.00\">value = [0.333, 0.667]</text>\n</g>\n<!-- 0&#45;&gt;1 -->\n<g id=\"edge1\" class=\"edge\">\n<title>0&#45;&gt;1</title>\n<path fill=\"none\" stroke=\"black\" d=\"M282.04,-249.87C271.65,-240.83 259.84,-230.55 248.89,-221.03\"/>\n<polygon fill=\"black\" stroke=\"black\" points=\"250.94,-218.17 241.1,-214.25 246.34,-223.45 250.94,-218.17\"/>\n<text text-anchor=\"middle\" x=\"242.83\" y=\"-235.49\" font-family=\"Helvetica,sans-Serif\" font-size=\"14.00\">True</text>\n</g>\n<!-- 20 -->\n<g id=\"node7\" class=\"node\">\n<title>20</title>\n<polygon fill=\"#f9e4d4\" stroke=\"black\" points=\"486,-214 339,-214 339,-161 486,-161 486,-214\"/>\n<text text-anchor=\"middle\" x=\"412.5\" y=\"-198.8\" font-family=\"Helvetica,sans-Serif\" font-size=\"14.00\">Actinomyces &lt;= 0.0</text>\n<text text-anchor=\"middle\" x=\"412.5\" y=\"-183.8\" font-family=\"Helvetica,sans-Serif\" font-size=\"14.00\">samples = 69.3%</text>\n<text text-anchor=\"middle\" x=\"412.5\" y=\"-168.8\" font-family=\"Helvetica,sans-Serif\" font-size=\"14.00\">value = [0.561, 0.439]</text>\n</g>\n<!-- 0&#45;&gt;20 -->\n<g id=\"edge6\" class=\"edge\">\n<title>0&#45;&gt;20</title>\n<path fill=\"none\" stroke=\"black\" d=\"M341.26,-249.87C351.75,-240.83 363.68,-230.55 374.74,-221.03\"/>\n<polygon fill=\"black\" stroke=\"black\" points=\"377.31,-223.43 382.61,-214.25 372.75,-218.12 377.31,-223.43\"/>\n<text text-anchor=\"middle\" x=\"380.75\" y=\"-235.48\" font-family=\"Helvetica,sans-Serif\" font-size=\"14.00\">False</text>\n</g>\n<!-- 2 -->\n<g id=\"node3\" class=\"node\">\n<title>2</title>\n<polygon fill=\"#83c2ef\" stroke=\"black\" points=\"147,-125 0,-125 0,-72 147,-72 147,-125\"/>\n<text text-anchor=\"middle\" x=\"73.5\" y=\"-109.8\" font-family=\"Helvetica,sans-Serif\" font-size=\"14.00\">Cutibacterium &lt;= 0.0</text>\n<text text-anchor=\"middle\" x=\"73.5\" y=\"-94.8\" font-family=\"Helvetica,sans-Serif\" font-size=\"14.00\">samples = 29.3%</text>\n<text text-anchor=\"middle\" x=\"73.5\" y=\"-79.8\" font-family=\"Helvetica,sans-Serif\" font-size=\"14.00\">value = [0.273, 0.727]</text>\n</g>\n<!-- 1&#45;&gt;2 -->\n<g id=\"edge2\" class=\"edge\">\n<title>1&#45;&gt;2</title>\n<path fill=\"none\" stroke=\"black\" d=\"M170.84,-160.87C155.82,-151.39 138.62,-140.55 122.9,-130.64\"/>\n<polygon fill=\"black\" stroke=\"black\" points=\"124.67,-127.62 114.34,-125.25 120.94,-133.54 124.67,-127.62\"/>\n</g>\n<!-- 19 -->\n<g id=\"node6\" class=\"node\">\n<title>19</title>\n<polygon fill=\"#e58139\" stroke=\"black\" points=\"282,-117.5 165,-117.5 165,-79.5 282,-79.5 282,-117.5\"/>\n<text text-anchor=\"middle\" x=\"223.5\" y=\"-102.3\" font-family=\"Helvetica,sans-Serif\" font-size=\"14.00\">samples = 1.3%</text>\n<text text-anchor=\"middle\" x=\"223.5\" y=\"-87.3\" font-family=\"Helvetica,sans-Serif\" font-size=\"14.00\">value = [1.0, 0.0]</text>\n</g>\n<!-- 1&#45;&gt;19 -->\n<g id=\"edge5\" class=\"edge\">\n<title>1&#45;&gt;19</title>\n<path fill=\"none\" stroke=\"black\" d=\"M215.04,-160.87C216.48,-150.42 218.15,-138.3 219.62,-127.61\"/>\n<polygon fill=\"black\" stroke=\"black\" points=\"223.12,-127.89 221.02,-117.51 216.18,-126.93 223.12,-127.89\"/>\n</g>\n<!-- 3 -->\n<g id=\"node4\" class=\"node\">\n<title>3</title>\n<polygon fill=\"#c0c0c0\" stroke=\"black\" points=\"64.5,-36 10.5,-36 10.5,0 64.5,0 64.5,-36\"/>\n<text text-anchor=\"middle\" x=\"37.5\" y=\"-14.3\" font-family=\"Helvetica,sans-Serif\" font-size=\"14.00\">(...)</text>\n</g>\n<!-- 2&#45;&gt;3 -->\n<g id=\"edge3\" class=\"edge\">\n<title>2&#45;&gt;3</title>\n<path fill=\"none\" stroke=\"black\" d=\"M61.71,-71.8C57.84,-63.35 53.53,-53.95 49.63,-45.45\"/>\n<polygon fill=\"black\" stroke=\"black\" points=\"52.8,-43.96 45.45,-36.33 46.43,-46.88 52.8,-43.96\"/>\n</g>\n<!-- 12 -->\n<g id=\"node5\" class=\"node\">\n<title>12</title>\n<polygon fill=\"#c0c0c0\" stroke=\"black\" points=\"136.5,-36 82.5,-36 82.5,0 136.5,0 136.5,-36\"/>\n<text text-anchor=\"middle\" x=\"109.5\" y=\"-14.3\" font-family=\"Helvetica,sans-Serif\" font-size=\"14.00\">(...)</text>\n</g>\n<!-- 2&#45;&gt;12 -->\n<g id=\"edge4\" class=\"edge\">\n<title>2&#45;&gt;12</title>\n<path fill=\"none\" stroke=\"black\" d=\"M85.29,-71.8C89.16,-63.35 93.47,-53.95 97.37,-45.45\"/>\n<polygon fill=\"black\" stroke=\"black\" points=\"100.57,-46.88 101.55,-36.33 94.2,-43.96 100.57,-46.88\"/>\n</g>\n<!-- 21 -->\n<g id=\"node8\" class=\"node\">\n<title>21</title>\n<polygon fill=\"#f4c8a9\" stroke=\"black\" points=\"476.5,-125 324.5,-125 324.5,-72 476.5,-72 476.5,-125\"/>\n<text text-anchor=\"middle\" x=\"400.5\" y=\"-109.8\" font-family=\"Helvetica,sans-Serif\" font-size=\"14.00\">Flavobacterium &lt;= 0.0</text>\n<text text-anchor=\"middle\" x=\"400.5\" y=\"-94.8\" font-family=\"Helvetica,sans-Serif\" font-size=\"14.00\">samples = 50.7%</text>\n<text text-anchor=\"middle\" x=\"400.5\" y=\"-79.8\" font-family=\"Helvetica,sans-Serif\" font-size=\"14.00\">value = [0.639, 0.361]</text>\n</g>\n<!-- 20&#45;&gt;21 -->\n<g id=\"edge7\" class=\"edge\">\n<title>20&#45;&gt;21</title>\n<path fill=\"none\" stroke=\"black\" d=\"M408.96,-160.87C407.86,-152.89 406.63,-143.93 405.45,-135.38\"/>\n<polygon fill=\"black\" stroke=\"black\" points=\"408.89,-134.68 404.05,-125.25 401.95,-135.63 408.89,-134.68\"/>\n</g>\n<!-- 48 -->\n<g id=\"node11\" class=\"node\">\n<title>48</title>\n<polygon fill=\"#9ccef2\" stroke=\"black\" points=\"642,-125 495,-125 495,-72 642,-72 642,-125\"/>\n<text text-anchor=\"middle\" x=\"568.5\" y=\"-109.8\" font-family=\"Helvetica,sans-Serif\" font-size=\"14.00\">Slackia &lt;= 0.0</text>\n<text text-anchor=\"middle\" x=\"568.5\" y=\"-94.8\" font-family=\"Helvetica,sans-Serif\" font-size=\"14.00\">samples = 18.7%</text>\n<text text-anchor=\"middle\" x=\"568.5\" y=\"-79.8\" font-family=\"Helvetica,sans-Serif\" font-size=\"14.00\">value = [0.333, 0.667]</text>\n</g>\n<!-- 20&#45;&gt;48 -->\n<g id=\"edge10\" class=\"edge\">\n<title>20&#45;&gt;48</title>\n<path fill=\"none\" stroke=\"black\" d=\"M458.46,-160.87C475.68,-151.26 495.42,-140.25 513.39,-130.24\"/>\n<polygon fill=\"black\" stroke=\"black\" points=\"515.57,-133.03 522.6,-125.1 512.16,-126.91 515.57,-133.03\"/>\n</g>\n<!-- 22 -->\n<g id=\"node9\" class=\"node\">\n<title>22</title>\n<polygon fill=\"#c0c0c0\" stroke=\"black\" points=\"385.5,-36 331.5,-36 331.5,0 385.5,0 385.5,-36\"/>\n<text text-anchor=\"middle\" x=\"358.5\" y=\"-14.3\" font-family=\"Helvetica,sans-Serif\" font-size=\"14.00\">(...)</text>\n</g>\n<!-- 21&#45;&gt;22 -->\n<g id=\"edge8\" class=\"edge\">\n<title>21&#45;&gt;22</title>\n<path fill=\"none\" stroke=\"black\" d=\"M386.75,-71.8C382.18,-63.26 377.09,-53.75 372.5,-45.17\"/>\n<polygon fill=\"black\" stroke=\"black\" points=\"375.58,-43.5 367.77,-36.33 369.4,-46.8 375.58,-43.5\"/>\n</g>\n<!-- 35 -->\n<g id=\"node10\" class=\"node\">\n<title>35</title>\n<polygon fill=\"#c0c0c0\" stroke=\"black\" points=\"457.5,-36 403.5,-36 403.5,0 457.5,0 457.5,-36\"/>\n<text text-anchor=\"middle\" x=\"430.5\" y=\"-14.3\" font-family=\"Helvetica,sans-Serif\" font-size=\"14.00\">(...)</text>\n</g>\n<!-- 21&#45;&gt;35 -->\n<g id=\"edge9\" class=\"edge\">\n<title>21&#45;&gt;35</title>\n<path fill=\"none\" stroke=\"black\" d=\"M410.32,-71.8C413.52,-63.44 417.07,-54.15 420.29,-45.72\"/>\n<polygon fill=\"black\" stroke=\"black\" points=\"423.58,-46.92 423.88,-36.33 417.04,-44.42 423.58,-46.92\"/>\n</g>\n<!-- 49 -->\n<g id=\"node12\" class=\"node\">\n<title>49</title>\n<polygon fill=\"#c0c0c0\" stroke=\"black\" points=\"559.5,-36 505.5,-36 505.5,0 559.5,0 559.5,-36\"/>\n<text text-anchor=\"middle\" x=\"532.5\" y=\"-14.3\" font-family=\"Helvetica,sans-Serif\" font-size=\"14.00\">(...)</text>\n</g>\n<!-- 48&#45;&gt;49 -->\n<g id=\"edge11\" class=\"edge\">\n<title>48&#45;&gt;49</title>\n<path fill=\"none\" stroke=\"black\" d=\"M556.71,-71.8C552.84,-63.35 548.53,-53.95 544.63,-45.45\"/>\n<polygon fill=\"black\" stroke=\"black\" points=\"547.8,-43.96 540.45,-36.33 541.43,-46.88 547.8,-43.96\"/>\n</g>\n<!-- 62 -->\n<g id=\"node13\" class=\"node\">\n<title>62</title>\n<polygon fill=\"#c0c0c0\" stroke=\"black\" points=\"631.5,-36 577.5,-36 577.5,0 631.5,0 631.5,-36\"/>\n<text text-anchor=\"middle\" x=\"604.5\" y=\"-14.3\" font-family=\"Helvetica,sans-Serif\" font-size=\"14.00\">(...)</text>\n</g>\n<!-- 48&#45;&gt;62 -->\n<g id=\"edge12\" class=\"edge\">\n<title>48&#45;&gt;62</title>\n<path fill=\"none\" stroke=\"black\" d=\"M580.29,-71.8C584.16,-63.35 588.47,-53.95 592.37,-45.45\"/>\n<polygon fill=\"black\" stroke=\"black\" points=\"595.57,-46.88 596.55,-36.33 589.2,-43.96 595.57,-46.88\"/>\n</g>\n</g>\n</svg>\n",
            "text/plain": [
              "<graphviz.sources.Source at 0x7b4c183ebca0>"
            ]
          },
          "metadata": {}
        },
        {
          "output_type": "display_data",
          "data": {
            "image/svg+xml": "<?xml version=\"1.0\" encoding=\"UTF-8\" standalone=\"no\"?>\n<!DOCTYPE svg PUBLIC \"-//W3C//DTD SVG 1.1//EN\"\n \"http://www.w3.org/Graphics/SVG/1.1/DTD/svg11.dtd\">\n<!-- Generated by graphviz version 2.43.0 (0)\n -->\n<!-- Title: Tree Pages: 1 -->\n<svg width=\"632pt\" height=\"311pt\"\n viewBox=\"0.00 0.00 632.00 311.00\" xmlns=\"http://www.w3.org/2000/svg\" xmlns:xlink=\"http://www.w3.org/1999/xlink\">\n<g id=\"graph0\" class=\"graph\" transform=\"scale(1 1) rotate(0) translate(4 307)\">\n<title>Tree</title>\n<polygon fill=\"white\" stroke=\"transparent\" points=\"-4,4 -4,-307 628,-307 628,4 -4,4\"/>\n<!-- 0 -->\n<g id=\"node1\" class=\"node\">\n<title>0</title>\n<polygon fill=\"#f2f9fd\" stroke=\"black\" points=\"416.5,-303 238.5,-303 238.5,-250 416.5,-250 416.5,-303\"/>\n<text text-anchor=\"middle\" x=\"327.5\" y=\"-287.8\" font-family=\"Helvetica,sans-Serif\" font-size=\"14.00\">Corynebacterium &lt;= 0.003</text>\n<text text-anchor=\"middle\" x=\"327.5\" y=\"-272.8\" font-family=\"Helvetica,sans-Serif\" font-size=\"14.00\">samples = 100.0%</text>\n<text text-anchor=\"middle\" x=\"327.5\" y=\"-257.8\" font-family=\"Helvetica,sans-Serif\" font-size=\"14.00\">value = [0.483, 0.517]</text>\n</g>\n<!-- 1 -->\n<g id=\"node2\" class=\"node\">\n<title>1</title>\n<polygon fill=\"#fdf4ed\" stroke=\"black\" points=\"326.5,-214 138.5,-214 138.5,-161 326.5,-161 326.5,-214\"/>\n<text text-anchor=\"middle\" x=\"232.5\" y=\"-198.8\" font-family=\"Helvetica,sans-Serif\" font-size=\"14.00\">Limosilactobacillus &lt;= 0.001</text>\n<text text-anchor=\"middle\" x=\"232.5\" y=\"-183.8\" font-family=\"Helvetica,sans-Serif\" font-size=\"14.00\">samples = 90.9%</text>\n<text text-anchor=\"middle\" x=\"232.5\" y=\"-168.8\" font-family=\"Helvetica,sans-Serif\" font-size=\"14.00\">value = [0.524, 0.476]</text>\n</g>\n<!-- 0&#45;&gt;1 -->\n<g id=\"edge1\" class=\"edge\">\n<title>0&#45;&gt;1</title>\n<path fill=\"none\" stroke=\"black\" d=\"M299.51,-249.87C289.65,-240.83 278.42,-230.55 268.02,-221.03\"/>\n<polygon fill=\"black\" stroke=\"black\" points=\"270.36,-218.42 260.62,-214.25 265.63,-223.58 270.36,-218.42\"/>\n<text text-anchor=\"middle\" x=\"261.72\" y=\"-235.53\" font-family=\"Helvetica,sans-Serif\" font-size=\"14.00\">True</text>\n</g>\n<!-- 52 -->\n<g id=\"node9\" class=\"node\">\n<title>52</title>\n<polygon fill=\"#5dafea\" stroke=\"black\" points=\"502,-214 345,-214 345,-161 502,-161 502,-214\"/>\n<text text-anchor=\"middle\" x=\"423.5\" y=\"-198.8\" font-family=\"Helvetica,sans-Serif\" font-size=\"14.00\">Anoxybacillus &lt;= 0.015</text>\n<text text-anchor=\"middle\" x=\"423.5\" y=\"-183.8\" font-family=\"Helvetica,sans-Serif\" font-size=\"14.00\">samples = 9.1%</text>\n<text text-anchor=\"middle\" x=\"423.5\" y=\"-168.8\" font-family=\"Helvetica,sans-Serif\" font-size=\"14.00\">value = [0.154, 0.846]</text>\n</g>\n<!-- 0&#45;&gt;52 -->\n<g id=\"edge8\" class=\"edge\">\n<title>0&#45;&gt;52</title>\n<path fill=\"none\" stroke=\"black\" d=\"M355.78,-249.87C365.75,-240.83 377.1,-230.55 387.61,-221.03\"/>\n<polygon fill=\"black\" stroke=\"black\" points=\"390.03,-223.56 395.09,-214.25 385.33,-218.37 390.03,-223.56\"/>\n<text text-anchor=\"middle\" x=\"393.86\" y=\"-235.52\" font-family=\"Helvetica,sans-Serif\" font-size=\"14.00\">False</text>\n</g>\n<!-- 2 -->\n<g id=\"node3\" class=\"node\">\n<title>2</title>\n<polygon fill=\"#f5cdb1\" stroke=\"black\" points=\"157,-125 0,-125 0,-72 157,-72 157,-125\"/>\n<text text-anchor=\"middle\" x=\"78.5\" y=\"-109.8\" font-family=\"Helvetica,sans-Serif\" font-size=\"14.00\">Pseudonocardia &lt;= 0.0</text>\n<text text-anchor=\"middle\" x=\"78.5\" y=\"-94.8\" font-family=\"Helvetica,sans-Serif\" font-size=\"14.00\">samples = 66.2%</text>\n<text text-anchor=\"middle\" x=\"78.5\" y=\"-79.8\" font-family=\"Helvetica,sans-Serif\" font-size=\"14.00\">value = [0.623, 0.377]</text>\n</g>\n<!-- 1&#45;&gt;2 -->\n<g id=\"edge2\" class=\"edge\">\n<title>1&#45;&gt;2</title>\n<path fill=\"none\" stroke=\"black\" d=\"M187.13,-160.87C170.13,-151.26 150.64,-140.25 132.91,-130.24\"/>\n<polygon fill=\"black\" stroke=\"black\" points=\"134.24,-126.97 123.81,-125.1 130.8,-133.07 134.24,-126.97\"/>\n</g>\n<!-- 39 -->\n<g id=\"node6\" class=\"node\">\n<title>39</title>\n<polygon fill=\"#7bbeee\" stroke=\"black\" points=\"307.5,-125 175.5,-125 175.5,-72 307.5,-72 307.5,-125\"/>\n<text text-anchor=\"middle\" x=\"241.5\" y=\"-109.8\" font-family=\"Helvetica,sans-Serif\" font-size=\"14.00\">Mobiluncus &lt;= 0.0</text>\n<text text-anchor=\"middle\" x=\"241.5\" y=\"-94.8\" font-family=\"Helvetica,sans-Serif\" font-size=\"14.00\">samples = 24.7%</text>\n<text text-anchor=\"middle\" x=\"241.5\" y=\"-79.8\" font-family=\"Helvetica,sans-Serif\" font-size=\"14.00\">value = [0.25, 0.75]</text>\n</g>\n<!-- 1&#45;&gt;39 -->\n<g id=\"edge5\" class=\"edge\">\n<title>1&#45;&gt;39</title>\n<path fill=\"none\" stroke=\"black\" d=\"M235.15,-160.87C235.98,-152.89 236.9,-143.93 237.79,-135.38\"/>\n<polygon fill=\"black\" stroke=\"black\" points=\"241.29,-135.56 238.84,-125.25 234.33,-134.84 241.29,-135.56\"/>\n</g>\n<!-- 3 -->\n<g id=\"node4\" class=\"node\">\n<title>3</title>\n<polygon fill=\"#c0c0c0\" stroke=\"black\" points=\"86.5,-36 32.5,-36 32.5,0 86.5,0 86.5,-36\"/>\n<text text-anchor=\"middle\" x=\"59.5\" y=\"-14.3\" font-family=\"Helvetica,sans-Serif\" font-size=\"14.00\">(...)</text>\n</g>\n<!-- 2&#45;&gt;3 -->\n<g id=\"edge3\" class=\"edge\">\n<title>2&#45;&gt;3</title>\n<path fill=\"none\" stroke=\"black\" d=\"M72.28,-71.8C70.3,-63.62 68.11,-54.55 66.1,-46.27\"/>\n<polygon fill=\"black\" stroke=\"black\" points=\"69.45,-45.23 63.69,-36.33 62.65,-46.87 69.45,-45.23\"/>\n</g>\n<!-- 38 -->\n<g id=\"node5\" class=\"node\">\n<title>38</title>\n<polygon fill=\"#c0c0c0\" stroke=\"black\" points=\"158.5,-36 104.5,-36 104.5,0 158.5,0 158.5,-36\"/>\n<text text-anchor=\"middle\" x=\"131.5\" y=\"-14.3\" font-family=\"Helvetica,sans-Serif\" font-size=\"14.00\">(...)</text>\n</g>\n<!-- 2&#45;&gt;38 -->\n<g id=\"edge4\" class=\"edge\">\n<title>2&#45;&gt;38</title>\n<path fill=\"none\" stroke=\"black\" d=\"M95.85,-71.8C101.74,-63.08 108.31,-53.34 114.2,-44.63\"/>\n<polygon fill=\"black\" stroke=\"black\" points=\"117.1,-46.58 119.8,-36.33 111.3,-42.66 117.1,-46.58\"/>\n</g>\n<!-- 40 -->\n<g id=\"node7\" class=\"node\">\n<title>40</title>\n<polygon fill=\"#c0c0c0\" stroke=\"black\" points=\"249.5,-36 195.5,-36 195.5,0 249.5,0 249.5,-36\"/>\n<text text-anchor=\"middle\" x=\"222.5\" y=\"-14.3\" font-family=\"Helvetica,sans-Serif\" font-size=\"14.00\">(...)</text>\n</g>\n<!-- 39&#45;&gt;40 -->\n<g id=\"edge6\" class=\"edge\">\n<title>39&#45;&gt;40</title>\n<path fill=\"none\" stroke=\"black\" d=\"M235.28,-71.8C233.3,-63.62 231.11,-54.55 229.1,-46.27\"/>\n<polygon fill=\"black\" stroke=\"black\" points=\"232.45,-45.23 226.69,-36.33 225.65,-46.87 232.45,-45.23\"/>\n</g>\n<!-- 51 -->\n<g id=\"node8\" class=\"node\">\n<title>51</title>\n<polygon fill=\"#c0c0c0\" stroke=\"black\" points=\"321.5,-36 267.5,-36 267.5,0 321.5,0 321.5,-36\"/>\n<text text-anchor=\"middle\" x=\"294.5\" y=\"-14.3\" font-family=\"Helvetica,sans-Serif\" font-size=\"14.00\">(...)</text>\n</g>\n<!-- 39&#45;&gt;51 -->\n<g id=\"edge7\" class=\"edge\">\n<title>39&#45;&gt;51</title>\n<path fill=\"none\" stroke=\"black\" d=\"M258.85,-71.8C264.74,-63.08 271.31,-53.34 277.2,-44.63\"/>\n<polygon fill=\"black\" stroke=\"black\" points=\"280.1,-46.58 282.8,-36.33 274.3,-42.66 280.1,-46.58\"/>\n</g>\n<!-- 53 -->\n<g id=\"node10\" class=\"node\">\n<title>53</title>\n<polygon fill=\"#4ba6e7\" stroke=\"black\" points=\"489,-125 342,-125 342,-72 489,-72 489,-125\"/>\n<text text-anchor=\"middle\" x=\"415.5\" y=\"-109.8\" font-family=\"Helvetica,sans-Serif\" font-size=\"14.00\">Tabrizicola &lt;= 0.0</text>\n<text text-anchor=\"middle\" x=\"415.5\" y=\"-94.8\" font-family=\"Helvetica,sans-Serif\" font-size=\"14.00\">samples = 7.8%</text>\n<text text-anchor=\"middle\" x=\"415.5\" y=\"-79.8\" font-family=\"Helvetica,sans-Serif\" font-size=\"14.00\">value = [0.083, 0.917]</text>\n</g>\n<!-- 52&#45;&gt;53 -->\n<g id=\"edge9\" class=\"edge\">\n<title>52&#45;&gt;53</title>\n<path fill=\"none\" stroke=\"black\" d=\"M421.14,-160.87C420.41,-152.89 419.59,-143.93 418.8,-135.38\"/>\n<polygon fill=\"black\" stroke=\"black\" points=\"422.27,-134.89 417.87,-125.25 415.3,-135.53 422.27,-134.89\"/>\n</g>\n<!-- 56 -->\n<g id=\"node13\" class=\"node\">\n<title>56</title>\n<polygon fill=\"#e58139\" stroke=\"black\" points=\"624,-117.5 507,-117.5 507,-79.5 624,-79.5 624,-117.5\"/>\n<text text-anchor=\"middle\" x=\"565.5\" y=\"-102.3\" font-family=\"Helvetica,sans-Serif\" font-size=\"14.00\">samples = 1.3%</text>\n<text text-anchor=\"middle\" x=\"565.5\" y=\"-87.3\" font-family=\"Helvetica,sans-Serif\" font-size=\"14.00\">value = [1.0, 0.0]</text>\n</g>\n<!-- 52&#45;&gt;56 -->\n<g id=\"edge12\" class=\"edge\">\n<title>52&#45;&gt;56</title>\n<path fill=\"none\" stroke=\"black\" d=\"M465.34,-160.87C484.97,-148.84 508.21,-134.6 527.35,-122.87\"/>\n<polygon fill=\"black\" stroke=\"black\" points=\"529.41,-125.72 536.11,-117.51 525.75,-119.75 529.41,-125.72\"/>\n</g>\n<!-- 54 -->\n<g id=\"node11\" class=\"node\">\n<title>54</title>\n<polygon fill=\"#c0c0c0\" stroke=\"black\" points=\"409.5,-36 355.5,-36 355.5,0 409.5,0 409.5,-36\"/>\n<text text-anchor=\"middle\" x=\"382.5\" y=\"-14.3\" font-family=\"Helvetica,sans-Serif\" font-size=\"14.00\">(...)</text>\n</g>\n<!-- 53&#45;&gt;54 -->\n<g id=\"edge10\" class=\"edge\">\n<title>53&#45;&gt;54</title>\n<path fill=\"none\" stroke=\"black\" d=\"M404.69,-71.8C401.18,-63.44 397.28,-54.15 393.73,-45.72\"/>\n<polygon fill=\"black\" stroke=\"black\" points=\"396.89,-44.19 389.79,-36.33 390.43,-46.91 396.89,-44.19\"/>\n</g>\n<!-- 55 -->\n<g id=\"node12\" class=\"node\">\n<title>55</title>\n<polygon fill=\"#c0c0c0\" stroke=\"black\" points=\"481.5,-36 427.5,-36 427.5,0 481.5,0 481.5,-36\"/>\n<text text-anchor=\"middle\" x=\"454.5\" y=\"-14.3\" font-family=\"Helvetica,sans-Serif\" font-size=\"14.00\">(...)</text>\n</g>\n<!-- 53&#45;&gt;55 -->\n<g id=\"edge11\" class=\"edge\">\n<title>53&#45;&gt;55</title>\n<path fill=\"none\" stroke=\"black\" d=\"M428.27,-71.8C432.47,-63.35 437.14,-53.95 441.36,-45.45\"/>\n<polygon fill=\"black\" stroke=\"black\" points=\"444.58,-46.84 445.89,-36.33 438.31,-43.73 444.58,-46.84\"/>\n</g>\n</g>\n</svg>\n",
            "text/plain": [
              "<graphviz.sources.Source at 0x7b4c0ccb3af0>"
            ]
          },
          "metadata": {}
        }
      ]
    },
    {
      "cell_type": "markdown",
      "source": [
        "# **SVC**"
      ],
      "metadata": {
        "id": "7Ck2FgLB4wtH"
      }
    },
    {
      "cell_type": "code",
      "source": [
        "import pandas as pd\n",
        "import numpy as np\n",
        "from sklearn.svm import SVC\n",
        "from sklearn.preprocessing import StandardScaler\n",
        "from sklearn.model_selection import train_test_split\n",
        "from sklearn.metrics import accuracy_score\n",
        "from sklearn import datasets\n",
        "\n",
        "\n",
        "\n",
        "# Training a SVM classifier using SVC class\n",
        "svm = SVC(kernel= 'linear', random_state=1, C=0.1)\n",
        "svm.fit(X_train, y_train)\n",
        "\n",
        "# Mode performance\n",
        "\n",
        "y_pred = svm.predict(X_test)\n",
        "print('Accuracy: %.3f' % accuracy_score(y_test, y_pred))\n",
        "\n",
        "\n",
        "\n",
        "from sklearn.linear_model import SGDClassifier\n",
        "\n",
        "# Instantiate SVM classifier using SGDClassifier\n",
        "svm = SGDClassifier(loss='hinge')\n",
        "\n",
        "# Fit the model\n",
        "svm.fit(X_train, y_train)\n",
        "\n",
        "# Model Performance\n",
        "y_pred = svm.predict(X_test)\n",
        "print('Accuracy: %.3f' % accuracy_score(y_test, y_pred))"
      ],
      "metadata": {
        "colab": {
          "base_uri": "https://localhost:8080/"
        },
        "id": "JIfnAeNI4yyE",
        "outputId": "dbe07df4-e63e-4026-d856-2da59bf2b683"
      },
      "execution_count": null,
      "outputs": [
        {
          "output_type": "stream",
          "name": "stdout",
          "text": [
            "Accuracy: 0.500\n",
            "Accuracy: 0.583\n"
          ]
        }
      ]
    },
    {
      "cell_type": "markdown",
      "source": [
        "# **Reflect**"
      ],
      "metadata": {
        "id": "Cpp9oWEmKaIf"
      }
    },
    {
      "cell_type": "markdown",
      "source": [
        "1. Comment in a few sentences on how low-quality vs high-quality (cleaned-up data) affects the alignment of the samples to the bacterial genomes (discovering what bacteria we have in the samples)\n",
        "\n",
        "2. What are the inputs and outputs of each of your machine learning models?\n",
        "\n",
        "3. What is the difference between the inputs of the supervised and unsupervised learning algorithms?\n",
        "\n",
        "4. Provide a table that summarizes the training and testing accuracy for all combinations of train-test split methods and ML algorithms used\n",
        "\n",
        "5. How did each of the train-test split methods affect the algorithms’ accuracy? Which method do you think is more reliable, and why?\n",
        "\n",
        "6. What do you think of the dataset’s structure? How could the dataset be improved for future machine learning applications?\n",
        "\n",
        "7. How generalizable is your final model?\n",
        "\n",
        "8. What do you think about this study’s design? Do you think that it reflects the diversity of people who can get pregnant? Do you think the sample size is enough?\n",
        "\n",
        "9. Think about how a study can be expanded to study pregnancy outcomes for different ethnic groups, knowing that this study and many others about microbiomes and pregnancy outcomes are focusing on white women. Why do you think this has been historically the case, and how can we challenge this?\n"
      ],
      "metadata": {
        "id": "AfMEfqgVrBbD"
      }
    },
    {
      "cell_type": "markdown",
      "source": [
        "# **Extra Exploration**"
      ],
      "metadata": {
        "id": "y38lZQG3rmPk"
      }
    },
    {
      "cell_type": "markdown",
      "source": [
        "Try the above experimentation with a 3-class ouput!(successful pregnancy, 1st trimester miscarriage, 2nd trimester mistarrage)\n",
        "\n",
        "- Comment on whether binary classification vs three-category classification algorithms performed better, and why you think so."
      ],
      "metadata": {
        "id": "z7FJgTZ1ruka"
      }
    }
  ]
}